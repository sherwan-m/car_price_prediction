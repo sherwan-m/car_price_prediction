{
 "cells": [
  {
   "cell_type": "code",
   "execution_count": 2,
   "metadata": {},
   "outputs": [],
   "source": [
    "import pandas as pd\n",
    "import numpy as np\n",
    "from sklearn.compose import ColumnTransformer\n",
    "from sklearn.preprocessing import OrdinalEncoder\n",
    "import matplotlib.pyplot as plt\n",
    "import seaborn as sns\n",
    "import datetime\n",
    "\n",
    "from sklearn.pipeline import Pipeline\n",
    "from sklearn.impute import SimpleImputer\n",
    "from sklearn.preprocessing import OrdinalEncoder\n",
    "from sklearn.preprocessing import OneHotEncoder\n",
    "from sklearn.preprocessing import MinMaxScaler\n",
    "from sklearn.compose import ColumnTransformer\n",
    "from sklearn.feature_selection import VarianceThreshold\n",
    "from sklearn.feature_selection import SelectFromModel\n",
    "from sklearn.tree import DecisionTreeRegressor\n",
    "from sklearn.linear_model import LinearRegression\n",
    "from sklearn.model_selection import GridSearchCV\n",
    "from sklearn import preprocessing\n",
    "from sklearn.pipeline import make_pipeline\n",
    "from sklearn import linear_model\n",
    "from sklearn.preprocessing import LabelEncoder\n",
    "from sklearn.model_selection import RandomizedSearchCV\n",
    "from sklearn.feature_extraction.text import CountVectorizer\n",
    "from sklearn.metrics import r2_score\n",
    "from sklearn.model_selection import train_test_split\n",
    "import matplotlib.pyplot as plt\n",
    "from sklearn.linear_model import LogisticRegression\n",
    "from sklearn.metrics import accuracy_score\n",
    "from sklearn.ensemble import RandomForestRegressor "
   ]
  },
  {
   "cell_type": "markdown",
   "metadata": {},
   "source": [
    "# Loading dataset"
   ]
  },
  {
   "cell_type": "code",
   "execution_count": null,
   "metadata": {},
   "outputs": [],
   "source": [
    "dataset= pd.read_csv('./data/vehicles.csv')"
   ]
  },
  {
   "cell_type": "code",
   "execution_count": null,
   "metadata": {},
   "outputs": [],
   "source": [
    "non_related_columns = ['id', 'url' , 'region', 'region_url', 'VIN', 'image_url', 'county', 'state', 'lat', 'long', 'description']\n",
    "data = dataset.drop(columns= non_related_columns)"
   ]
  },
  {
   "cell_type": "code",
   "execution_count": null,
   "metadata": {},
   "outputs": [],
   "source": [
    "data_v1 = data.dropna(subset =['condition', 'year', 'odometer'])"
   ]
  },
  {
   "cell_type": "code",
   "execution_count": 14,
   "metadata": {},
   "outputs": [],
   "source": [
    "drop_manufacturer = ['tesla', 'fiat','harley-davidson', 'ferrari', 'datson', 'aston-martin', 'land rover', 'morgan', 'datsun']"
   ]
  },
  {
   "cell_type": "code",
   "execution_count": null,
   "metadata": {},
   "outputs": [],
   "source": [
    "data_v2 = data_v1[~data_v1['manufacturer'].isin(drop_manufacturer)]"
   ]
  },
  {
   "cell_type": "code",
   "execution_count": null,
   "metadata": {},
   "outputs": [],
   "source": [
    "def find_number_of_cylinedrs(manufacturer, model):\n",
    "    result = data_v2.loc[lambda df_ : ((df_['manufacturer'] == manufacturer) & (df_['model'] == model) & (~df_['cylinders'].isna()))]\n",
    "    if result.shape[0] == 0:\n",
    "        return np.nan\n",
    "    return result.iloc[0,]['cylinders']"
   ]
  },
  {
   "cell_type": "code",
   "execution_count": 19,
   "metadata": {},
   "outputs": [],
   "source": [
    "data_v3=(\n",
    "    data_v2\n",
    "        .assign(re_cylinders = np.where(\n",
    "            data_v2['cylinders'].isna(),\n",
    "            find_number_of_cylinedrs(data_v2['manufacturer'],data_v2['model']),\n",
    "            data_v2['cylinders']\n",
    "        ))\n",
    ")"
   ]
  },
  {
   "cell_type": "code",
   "execution_count": 21,
   "metadata": {},
   "outputs": [],
   "source": [
    "def find_fuel(manufacturer, model):\n",
    "    result = data_v3.loc[lambda df_ : ((df_['manufacturer'] == manufacturer) & (df_['model'] == model) & (~df_['fuel'].isna()))]\n",
    "    if result.shape[0] == 0:\n",
    "        return np.nan\n",
    "    return result.iloc[0,]['fuel']\n",
    "\n",
    "\n",
    "def find_transmission(manufacturer, model):\n",
    "    result = data_v3.loc[lambda df_ : ((df_['manufacturer'] == manufacturer) & (df_['model'] == model) & (~df_['transmission'].isna()))]\n",
    "    if result.shape[0] == 0:\n",
    "        return np.nan\n",
    "    return result.iloc[0,]['transmission']\n",
    "\n",
    "\n",
    "def find_drive(manufacturer, model):\n",
    "    result = data_v3.loc[lambda df_ : ((df_['manufacturer'] == manufacturer) & (df_['model'] == model) & (~df_['drive'].isna()))]\n",
    "    if result.shape[0] == 0:\n",
    "        return np.nan\n",
    "    return result.iloc[0,]['drive']\n",
    "\n",
    "def find_size(manufacturer, model):\n",
    "    result = data_v3.loc[lambda df_ : ((df_['manufacturer'] == manufacturer) & (df_['model'] == model) & (~df_['size'].isna()))]\n",
    "    if result.shape[0] == 0:\n",
    "        return np.nan\n",
    "    return result.iloc[0,]['size']\n",
    "\n",
    "def find_type(manufacturer, model):\n",
    "    result = data_v3.loc[lambda df_ : ((df_['manufacturer'] == manufacturer) & (df_['model'] == model) & (~df_['type'].isna()))]\n",
    "    if result.shape[0] == 0:\n",
    "        return np.nan\n",
    "    return result.iloc[0,]['type']"
   ]
  },
  {
   "cell_type": "code",
   "execution_count": 22,
   "metadata": {},
   "outputs": [],
   "source": [
    "data_v4=(\n",
    "    data_v3\n",
    "        .assign(re_fuel = np.where(\n",
    "            data_v3['fuel'].isna(),\n",
    "            find_fuel(data_v3['manufacturer'],data_v3['model']),\n",
    "            data_v3['fuel']\n",
    "        ))\n",
    "        .assign(re_transmission = np.where(\n",
    "            data_v3['transmission'].isna(),\n",
    "            find_transmission(data_v3['manufacturer'],data_v3['model']),\n",
    "            data_v3['transmission']\n",
    "        ))\n",
    "        .assign(re_drive = np.where(\n",
    "            data_v3['drive'].isna(),\n",
    "            find_drive(data_v3['manufacturer'],data_v3['model']),\n",
    "            data_v3['drive']\n",
    "        ))\n",
    "        .assign(re_size = np.where(\n",
    "            data_v3['size'].isna(),\n",
    "            find_size(data_v3['manufacturer'],data_v3['model']),\n",
    "            data_v3['size']\n",
    "        ))\n",
    "        .assign(re_type = np.where(\n",
    "            data_v3['type'].isna(),\n",
    "            find_type(data_v3['manufacturer'],data_v3['model']),\n",
    "            data_v3['type']\n",
    "        ))\n",
    ")"
   ]
  },
  {
   "cell_type": "code",
   "execution_count": 23,
   "metadata": {},
   "outputs": [
    {
     "data": {
      "text/plain": [
       "price                   0\n",
       "year                    0\n",
       "manufacturer        10782\n",
       "model                2253\n",
       "condition               0\n",
       "cylinders           69611\n",
       "fuel                   16\n",
       "odometer                0\n",
       "title_status         5462\n",
       "transmission           34\n",
       "drive               60567\n",
       "size               153376\n",
       "type                32377\n",
       "paint_color         50733\n",
       "posting_date            0\n",
       "re_cylinders            0\n",
       "re_fuel                 0\n",
       "re_transmission         0\n",
       "re_drive                0\n",
       "re_size                 0\n",
       "re_type                 0\n",
       "dtype: int64"
      ]
     },
     "execution_count": 23,
     "metadata": {},
     "output_type": "execute_result"
    }
   ],
   "source": [
    "data_v4.isna().sum()"
   ]
  },
  {
   "cell_type": "markdown",
   "metadata": {},
   "source": [
    "recalculate the models it hard and i just drop them, but i try to recalulate the manufaturer using the model and other details"
   ]
  },
  {
   "cell_type": "code",
   "execution_count": 24,
   "metadata": {},
   "outputs": [],
   "source": [
    "def find_manufacturer(model, cylinders, fuel, transmission, type):\n",
    "    result = data_v4.loc[lambda df_ : ((df_['model'] == model) & (df_['re_cylinders'] == cylinders) &(df_['re_fuel'] == fuel) &\n",
    "                                       (df_['re_transmission'] == transmission)&(df_['re_type'] == type) &\n",
    "                                       (~df_['manufacturer'].isna()))]\n",
    "    if result.shape[0] == 0:\n",
    "        return np.nan\n",
    "    return result.iloc[0,]['manufacturer']"
   ]
  },
  {
   "cell_type": "code",
   "execution_count": 25,
   "metadata": {},
   "outputs": [],
   "source": [
    "data_v5 =(\n",
    "    data_v4\n",
    "        .assign(re_manufacturer = np.where(\n",
    "            data_v4['manufacturer'].isna(),\n",
    "            find_manufacturer(data_v4['model'],data_v4['re_cylinders'], data_v4['re_fuel'], data_v4['re_transmission'], data_v4['re_type']),\n",
    "            data_v4['manufacturer']\n",
    "        ))\n",
    ")"
   ]
  },
  {
   "cell_type": "code",
   "execution_count": 26,
   "metadata": {},
   "outputs": [
    {
     "data": {
      "text/plain": [
       "Index(['price', 'year', 'manufacturer', 'model', 'condition', 'cylinders',\n",
       "       'fuel', 'odometer', 'title_status', 'transmission', 'drive', 'size',\n",
       "       'type', 'paint_color', 'posting_date', 're_cylinders', 're_fuel',\n",
       "       're_transmission', 're_drive', 're_size', 're_type', 're_manufacturer'],\n",
       "      dtype='object')"
      ]
     },
     "execution_count": 26,
     "metadata": {},
     "output_type": "execute_result"
    }
   ],
   "source": [
    "data_v5.columns"
   ]
  },
  {
   "cell_type": "code",
   "execution_count": 27,
   "metadata": {},
   "outputs": [],
   "source": [
    "data_v5.dropna(subset= ['model', 'title_status'], inplace=True)\n",
    "columns= ['price', 'year', 're_manufacturer', 'model', 'condition', 're_cylinders', 're_fuel', 'odometer', 'title_status', 're_transmission', 're_drive', 're_size', 're_type', 'posting_date' ,'paint_color']\n",
    "data_v6 = data_v5[columns]\n",
    "data_v6.columns = data_v6.columns.str.replace('re_', '')"
   ]
  },
  {
   "cell_type": "code",
   "execution_count": 28,
   "metadata": {},
   "outputs": [
    {
     "data": {
      "text/plain": [
       "price               0\n",
       "year                0\n",
       "manufacturer        0\n",
       "model               0\n",
       "condition           0\n",
       "cylinders           0\n",
       "fuel                0\n",
       "odometer            0\n",
       "title_status        0\n",
       "transmission        0\n",
       "drive               0\n",
       "size                0\n",
       "type                0\n",
       "posting_date        0\n",
       "paint_color     44602\n",
       "dtype: int64"
      ]
     },
     "execution_count": 28,
     "metadata": {},
     "output_type": "execute_result"
    }
   ],
   "source": [
    "data_v6.isna().sum()"
   ]
  },
  {
   "cell_type": "code",
   "execution_count": 29,
   "metadata": {},
   "outputs": [
    {
     "data": {
      "text/plain": [
       "(241719, 15)"
      ]
     },
     "execution_count": 29,
     "metadata": {},
     "output_type": "execute_result"
    }
   ],
   "source": [
    "data_v6.shape"
   ]
  },
  {
   "cell_type": "markdown",
   "metadata": {},
   "source": [
    "i fill the missed values for paint color by none."
   ]
  },
  {
   "cell_type": "code",
   "execution_count": 30,
   "metadata": {},
   "outputs": [
    {
     "name": "stderr",
     "output_type": "stream",
     "text": [
      "C:\\Users\\sherw\\AppData\\Local\\Temp\\ipykernel_3888\\3501033760.py:1: SettingWithCopyWarning: \n",
      "A value is trying to be set on a copy of a slice from a DataFrame\n",
      "\n",
      "See the caveats in the documentation: https://pandas.pydata.org/pandas-docs/stable/user_guide/indexing.html#returning-a-view-versus-a-copy\n",
      "  data_v6['paint_color'].fillna(value='none', inplace=True)\n"
     ]
    }
   ],
   "source": [
    "data_v6['paint_color'].fillna(value='none', inplace=True)"
   ]
  },
  {
   "cell_type": "code",
   "execution_count": 31,
   "metadata": {},
   "outputs": [
    {
     "name": "stdout",
     "output_type": "stream",
     "text": [
      "<class 'pandas.core.frame.DataFrame'>\n",
      "Int64Index: 241719 entries, 27 to 426879\n",
      "Data columns (total 15 columns):\n",
      " #   Column        Non-Null Count   Dtype  \n",
      "---  ------        --------------   -----  \n",
      " 0   price         241719 non-null  int64  \n",
      " 1   year          241719 non-null  float64\n",
      " 2   manufacturer  241719 non-null  object \n",
      " 3   model         241719 non-null  object \n",
      " 4   condition     241719 non-null  object \n",
      " 5   cylinders     241719 non-null  object \n",
      " 6   fuel          241719 non-null  object \n",
      " 7   odometer      241719 non-null  float64\n",
      " 8   title_status  241719 non-null  object \n",
      " 9   transmission  241719 non-null  object \n",
      " 10  drive         241719 non-null  object \n",
      " 11  size          241719 non-null  object \n",
      " 12  type          241719 non-null  object \n",
      " 13  posting_date  241719 non-null  object \n",
      " 14  paint_color   241719 non-null  object \n",
      "dtypes: float64(2), int64(1), object(12)\n",
      "memory usage: 29.5+ MB\n"
     ]
    }
   ],
   "source": [
    "data_v6.info()"
   ]
  },
  {
   "cell_type": "markdown",
   "metadata": {},
   "source": [
    "### Delaing with types an labelize"
   ]
  },
  {
   "cell_type": "code",
   "execution_count": 32,
   "metadata": {},
   "outputs": [
    {
     "data": {
      "text/plain": [
       "27        2021-05-04T12:31:18-0500\n",
       "28        2021-05-04T12:31:08-0500\n",
       "29        2021-05-04T12:31:25-0500\n",
       "30        2021-05-04T10:41:31-0500\n",
       "31        2021-05-03T14:02:03-0500\n",
       "                    ...           \n",
       "426875    2021-04-04T03:21:31-0600\n",
       "426876    2021-04-04T03:21:29-0600\n",
       "426877    2021-04-04T03:21:17-0600\n",
       "426878    2021-04-04T03:21:11-0600\n",
       "426879    2021-04-04T03:21:07-0600\n",
       "Name: posting_date, Length: 241719, dtype: object"
      ]
     },
     "execution_count": 32,
     "metadata": {},
     "output_type": "execute_result"
    }
   ],
   "source": [
    "data_v6['posting_date']"
   ]
  },
  {
   "cell_type": "markdown",
   "metadata": {},
   "source": [
    "i convert posting_date column to datetime format\n"
   ]
  },
  {
   "cell_type": "code",
   "execution_count": 33,
   "metadata": {},
   "outputs": [
    {
     "name": "stderr",
     "output_type": "stream",
     "text": [
      "C:\\Users\\sherw\\AppData\\Local\\Temp\\ipykernel_3888\\4100576747.py:1: SettingWithCopyWarning: \n",
      "A value is trying to be set on a copy of a slice from a DataFrame.\n",
      "Try using .loc[row_indexer,col_indexer] = value instead\n",
      "\n",
      "See the caveats in the documentation: https://pandas.pydata.org/pandas-docs/stable/user_guide/indexing.html#returning-a-view-versus-a-copy\n",
      "  data_v6['posting_date']= pd.to_datetime(data_v6['posting_date'] , utc=True)\n"
     ]
    }
   ],
   "source": [
    "data_v6['posting_date']= pd.to_datetime(data_v6['posting_date'] , utc=True)"
   ]
  },
  {
   "cell_type": "markdown",
   "metadata": {},
   "source": [
    "and then i convert it to integer, because i want to this column for my model."
   ]
  },
  {
   "cell_type": "code",
   "execution_count": 34,
   "metadata": {},
   "outputs": [
    {
     "name": "stderr",
     "output_type": "stream",
     "text": [
      "C:\\Users\\sherw\\AppData\\Local\\Temp\\ipykernel_3888\\4181322438.py:1: SettingWithCopyWarning: \n",
      "A value is trying to be set on a copy of a slice from a DataFrame.\n",
      "Try using .loc[row_indexer,col_indexer] = value instead\n",
      "\n",
      "See the caveats in the documentation: https://pandas.pydata.org/pandas-docs/stable/user_guide/indexing.html#returning-a-view-versus-a-copy\n",
      "  data_v6['posting_date'] = data_v6['posting_date'].dt.year*10000 + data_v6['posting_date'].dt.month*100 + data_v6['posting_date'].dt.day\n"
     ]
    }
   ],
   "source": [
    "data_v6['posting_date'] = data_v6['posting_date'].dt.year*10000 + data_v6['posting_date'].dt.month*100 + data_v6['posting_date'].dt.day\n"
   ]
  },
  {
   "cell_type": "code",
   "execution_count": 35,
   "metadata": {},
   "outputs": [
    {
     "name": "stdout",
     "output_type": "stream",
     "text": [
      "<class 'pandas.core.frame.DataFrame'>\n",
      "Int64Index: 241719 entries, 27 to 426879\n",
      "Data columns (total 15 columns):\n",
      " #   Column        Non-Null Count   Dtype  \n",
      "---  ------        --------------   -----  \n",
      " 0   price         241719 non-null  int64  \n",
      " 1   year          241719 non-null  float64\n",
      " 2   manufacturer  241719 non-null  object \n",
      " 3   model         241719 non-null  object \n",
      " 4   condition     241719 non-null  object \n",
      " 5   cylinders     241719 non-null  object \n",
      " 6   fuel          241719 non-null  object \n",
      " 7   odometer      241719 non-null  float64\n",
      " 8   title_status  241719 non-null  object \n",
      " 9   transmission  241719 non-null  object \n",
      " 10  drive         241719 non-null  object \n",
      " 11  size          241719 non-null  object \n",
      " 12  type          241719 non-null  object \n",
      " 13  posting_date  241719 non-null  int64  \n",
      " 14  paint_color   241719 non-null  object \n",
      "dtypes: float64(2), int64(2), object(11)\n",
      "memory usage: 29.5+ MB\n"
     ]
    }
   ],
   "source": [
    "data_v6.info()"
   ]
  },
  {
   "cell_type": "markdown",
   "metadata": {},
   "source": [
    "Convert Cylinders\n",
    "the cylinders have some text in the that we dont need them, at the first step we scrab the digit part of them, and then we convert them to int.\n"
   ]
  },
  {
   "cell_type": "code",
   "execution_count": 36,
   "metadata": {},
   "outputs": [],
   "source": [
    "def other_to_0(input):\n",
    "    if input == 'other': \n",
    "        return '0 cylinders'\n",
    "    return input"
   ]
  },
  {
   "cell_type": "code",
   "execution_count": 37,
   "metadata": {},
   "outputs": [
    {
     "name": "stderr",
     "output_type": "stream",
     "text": [
      "C:\\Users\\sherw\\AppData\\Local\\Temp\\ipykernel_3888\\2967395791.py:1: SettingWithCopyWarning: \n",
      "A value is trying to be set on a copy of a slice from a DataFrame.\n",
      "Try using .loc[row_indexer,col_indexer] = value instead\n",
      "\n",
      "See the caveats in the documentation: https://pandas.pydata.org/pandas-docs/stable/user_guide/indexing.html#returning-a-view-versus-a-copy\n",
      "  data_v6['cylinders'] = data_v6['cylinders'].apply(other_to_0)\n"
     ]
    }
   ],
   "source": [
    "data_v6['cylinders'] = data_v6['cylinders'].apply(other_to_0)"
   ]
  },
  {
   "cell_type": "code",
   "execution_count": 38,
   "metadata": {},
   "outputs": [
    {
     "name": "stderr",
     "output_type": "stream",
     "text": [
      "C:\\Users\\sherw\\AppData\\Local\\Temp\\ipykernel_3888\\1092821188.py:1: SettingWithCopyWarning: \n",
      "A value is trying to be set on a copy of a slice from a DataFrame.\n",
      "Try using .loc[row_indexer,col_indexer] = value instead\n",
      "\n",
      "See the caveats in the documentation: https://pandas.pydata.org/pandas-docs/stable/user_guide/indexing.html#returning-a-view-versus-a-copy\n",
      "  data_v6['cylinders'] = data_v6['cylinders'].str.replace(r'(\\d{1,2})(\\s)(.*)$', r'\\1', regex=True).astype('int64')\n"
     ]
    }
   ],
   "source": [
    "data_v6['cylinders'] = data_v6['cylinders'].str.replace(r'(\\d{1,2})(\\s)(.*)$', r'\\1', regex=True).astype('int64')"
   ]
  },
  {
   "cell_type": "markdown",
   "metadata": {},
   "source": [
    "its time to convert the the category columns and train the encoders.\n"
   ]
  },
  {
   "cell_type": "code",
   "execution_count": 39,
   "metadata": {},
   "outputs": [
    {
     "data": {
      "text/plain": [
       "array(['good', 'excellent', 'fair', 'like new', 'new', 'salvage'],\n",
       "      dtype=object)"
      ]
     },
     "execution_count": 39,
     "metadata": {},
     "output_type": "execute_result"
    }
   ],
   "source": [
    "data_v6['condition'].unique()"
   ]
  },
  {
   "cell_type": "code",
   "execution_count": 40,
   "metadata": {},
   "outputs": [
    {
     "data": {
      "text/plain": [
       "array(['gas', 'other', 'diesel', 'hybrid', 'electric'], dtype=object)"
      ]
     },
     "execution_count": 40,
     "metadata": {},
     "output_type": "execute_result"
    }
   ],
   "source": [
    "data_v6['fuel'].unique()"
   ]
  },
  {
   "cell_type": "code",
   "execution_count": 41,
   "metadata": {},
   "outputs": [
    {
     "data": {
      "text/plain": [
       "array(['clean', 'rebuilt', 'lien', 'salvage', 'missing', 'parts only'],\n",
       "      dtype=object)"
      ]
     },
     "execution_count": 41,
     "metadata": {},
     "output_type": "execute_result"
    }
   ],
   "source": [
    "data_v6['title_status'].unique()"
   ]
  },
  {
   "cell_type": "code",
   "execution_count": 42,
   "metadata": {},
   "outputs": [
    {
     "data": {
      "text/plain": [
       "array(['other', 'automatic', 'manual'], dtype=object)"
      ]
     },
     "execution_count": 42,
     "metadata": {},
     "output_type": "execute_result"
    }
   ],
   "source": [
    "data_v6['transmission'].unique()"
   ]
  },
  {
   "cell_type": "code",
   "execution_count": 43,
   "metadata": {},
   "outputs": [
    {
     "data": {
      "text/plain": [
       "array(['rwd', '4wd', 'fwd'], dtype=object)"
      ]
     },
     "execution_count": 43,
     "metadata": {},
     "output_type": "execute_result"
    }
   ],
   "source": [
    "data_v6['drive'].unique()"
   ]
  },
  {
   "cell_type": "code",
   "execution_count": 44,
   "metadata": {},
   "outputs": [
    {
     "data": {
      "text/plain": [
       "array(['full-size', 'mid-size', 'compact', 'sub-compact'], dtype=object)"
      ]
     },
     "execution_count": 44,
     "metadata": {},
     "output_type": "execute_result"
    }
   ],
   "source": [
    "data_v6['size'].unique()"
   ]
  },
  {
   "cell_type": "code",
   "execution_count": 45,
   "metadata": {},
   "outputs": [
    {
     "data": {
      "text/plain": [
       "array(['white', 'blue', 'red', 'black', 'silver', 'grey', 'none', 'brown',\n",
       "       'yellow', 'orange', 'green', 'custom', 'purple'], dtype=object)"
      ]
     },
     "execution_count": 45,
     "metadata": {},
     "output_type": "execute_result"
    }
   ],
   "source": [
    "data_v6['paint_color'].unique()"
   ]
  },
  {
   "cell_type": "code",
   "execution_count": 46,
   "metadata": {},
   "outputs": [
    {
     "data": {
      "text/plain": [
       "Index(['price', 'year', 'manufacturer', 'model', 'condition', 'cylinders',\n",
       "       'fuel', 'odometer', 'title_status', 'transmission', 'drive', 'size',\n",
       "       'type', 'posting_date', 'paint_color'],\n",
       "      dtype='object')"
      ]
     },
     "execution_count": 46,
     "metadata": {},
     "output_type": "execute_result"
    }
   ],
   "source": [
    "data_v6.columns"
   ]
  },
  {
   "cell_type": "code",
   "execution_count": 47,
   "metadata": {},
   "outputs": [],
   "source": [
    "#ordinal encoder list\n",
    "ordinal_columns= ['condition', 'fuel', 'title_status', 'transmission', 'drive', 'size', 'paint_color']\n",
    "\n",
    "\n",
    "ord_condition_list = ['salvage', 'fair', 'good', 'excellent', 'like new', 'new']\n",
    "ord_fuel_list = ['other', 'diesel', 'gas', 'hybrid', 'electric']\n",
    "ord_title_status_list = ['salvage', 'missing', 'parts only', 'rebuilt', 'lien', 'clean']\n",
    "ord_tranmission_list = ['other', 'manual', 'automatic']\n",
    "ord_drive_list= ['fwd', 'rwd', '4wd']\n",
    "ord_size_list = ['mid-size','full-size', 'sub-compact', 'compact']\n",
    "ord_paint_color = ['white', 'blue', 'red', 'black', 'silver', 'grey', 'none', 'brown',\n",
    "                   'yellow', 'orange', 'green', 'custom', 'purple']\n",
    "ordinal_lists = [ord_condition_list,ord_fuel_list,ord_title_status_list,ord_tranmission_list,ord_drive_list,ord_size_list,ord_paint_color]\n",
    "# i use onehot encoder for the others "
   ]
  },
  {
   "cell_type": "code",
   "execution_count": 48,
   "metadata": {},
   "outputs": [
    {
     "data": {
      "text/html": [
       "<style>#sk-container-id-1 {color: black;background-color: white;}#sk-container-id-1 pre{padding: 0;}#sk-container-id-1 div.sk-toggleable {background-color: white;}#sk-container-id-1 label.sk-toggleable__label {cursor: pointer;display: block;width: 100%;margin-bottom: 0;padding: 0.3em;box-sizing: border-box;text-align: center;}#sk-container-id-1 label.sk-toggleable__label-arrow:before {content: \"▸\";float: left;margin-right: 0.25em;color: #696969;}#sk-container-id-1 label.sk-toggleable__label-arrow:hover:before {color: black;}#sk-container-id-1 div.sk-estimator:hover label.sk-toggleable__label-arrow:before {color: black;}#sk-container-id-1 div.sk-toggleable__content {max-height: 0;max-width: 0;overflow: hidden;text-align: left;background-color: #f0f8ff;}#sk-container-id-1 div.sk-toggleable__content pre {margin: 0.2em;color: black;border-radius: 0.25em;background-color: #f0f8ff;}#sk-container-id-1 input.sk-toggleable__control:checked~div.sk-toggleable__content {max-height: 200px;max-width: 100%;overflow: auto;}#sk-container-id-1 input.sk-toggleable__control:checked~label.sk-toggleable__label-arrow:before {content: \"▾\";}#sk-container-id-1 div.sk-estimator input.sk-toggleable__control:checked~label.sk-toggleable__label {background-color: #d4ebff;}#sk-container-id-1 div.sk-label input.sk-toggleable__control:checked~label.sk-toggleable__label {background-color: #d4ebff;}#sk-container-id-1 input.sk-hidden--visually {border: 0;clip: rect(1px 1px 1px 1px);clip: rect(1px, 1px, 1px, 1px);height: 1px;margin: -1px;overflow: hidden;padding: 0;position: absolute;width: 1px;}#sk-container-id-1 div.sk-estimator {font-family: monospace;background-color: #f0f8ff;border: 1px dotted black;border-radius: 0.25em;box-sizing: border-box;margin-bottom: 0.5em;}#sk-container-id-1 div.sk-estimator:hover {background-color: #d4ebff;}#sk-container-id-1 div.sk-parallel-item::after {content: \"\";width: 100%;border-bottom: 1px solid gray;flex-grow: 1;}#sk-container-id-1 div.sk-label:hover label.sk-toggleable__label {background-color: #d4ebff;}#sk-container-id-1 div.sk-serial::before {content: \"\";position: absolute;border-left: 1px solid gray;box-sizing: border-box;top: 0;bottom: 0;left: 50%;z-index: 0;}#sk-container-id-1 div.sk-serial {display: flex;flex-direction: column;align-items: center;background-color: white;padding-right: 0.2em;padding-left: 0.2em;position: relative;}#sk-container-id-1 div.sk-item {position: relative;z-index: 1;}#sk-container-id-1 div.sk-parallel {display: flex;align-items: stretch;justify-content: center;background-color: white;position: relative;}#sk-container-id-1 div.sk-item::before, #sk-container-id-1 div.sk-parallel-item::before {content: \"\";position: absolute;border-left: 1px solid gray;box-sizing: border-box;top: 0;bottom: 0;left: 50%;z-index: -1;}#sk-container-id-1 div.sk-parallel-item {display: flex;flex-direction: column;z-index: 1;position: relative;background-color: white;}#sk-container-id-1 div.sk-parallel-item:first-child::after {align-self: flex-end;width: 50%;}#sk-container-id-1 div.sk-parallel-item:last-child::after {align-self: flex-start;width: 50%;}#sk-container-id-1 div.sk-parallel-item:only-child::after {width: 0;}#sk-container-id-1 div.sk-dashed-wrapped {border: 1px dashed gray;margin: 0 0.4em 0.5em 0.4em;box-sizing: border-box;padding-bottom: 0.4em;background-color: white;}#sk-container-id-1 div.sk-label label {font-family: monospace;font-weight: bold;display: inline-block;line-height: 1.2em;}#sk-container-id-1 div.sk-label-container {text-align: center;}#sk-container-id-1 div.sk-container {/* jupyter's `normalize.less` sets `[hidden] { display: none; }` but bootstrap.min.css set `[hidden] { display: none !important; }` so we also need the `!important` here to be able to override the default hidden behavior on the sphinx rendered scikit-learn.org. See: https://github.com/scikit-learn/scikit-learn/issues/21755 */display: inline-block !important;position: relative;}#sk-container-id-1 div.sk-text-repr-fallback {display: none;}</style><div id=\"sk-container-id-1\" class=\"sk-top-container\"><div class=\"sk-text-repr-fallback\"><pre>ColumnTransformer(transformers=[(&#x27;ordinal&#x27;,\n",
       "                                 OrdinalEncoder(categories=[[&#x27;salvage&#x27;, &#x27;fair&#x27;,\n",
       "                                                             &#x27;good&#x27;,\n",
       "                                                             &#x27;excellent&#x27;,\n",
       "                                                             &#x27;like new&#x27;,\n",
       "                                                             &#x27;new&#x27;],\n",
       "                                                            [&#x27;other&#x27;, &#x27;diesel&#x27;,\n",
       "                                                             &#x27;gas&#x27;, &#x27;hybrid&#x27;,\n",
       "                                                             &#x27;electric&#x27;],\n",
       "                                                            [&#x27;salvage&#x27;,\n",
       "                                                             &#x27;missing&#x27;,\n",
       "                                                             &#x27;parts only&#x27;,\n",
       "                                                             &#x27;rebuilt&#x27;, &#x27;lien&#x27;,\n",
       "                                                             &#x27;clean&#x27;],\n",
       "                                                            [&#x27;other&#x27;, &#x27;manual&#x27;,\n",
       "                                                             &#x27;automatic&#x27;],\n",
       "                                                            [&#x27;fwd&#x27;, &#x27;rwd&#x27;,\n",
       "                                                             &#x27;4wd&#x27;],\n",
       "                                                            [&#x27;mid-size&#x27;,\n",
       "                                                             &#x27;full-size&#x27;,\n",
       "                                                             &#x27;sub-compact&#x27;,\n",
       "                                                             &#x27;compact&#x27;],\n",
       "                                                            [&#x27;white&#x27;, &#x27;blue&#x27;,\n",
       "                                                             &#x27;red&#x27;, &#x27;black&#x27;,\n",
       "                                                             &#x27;silver&#x27;, &#x27;grey&#x27;,\n",
       "                                                             &#x27;none&#x27;, &#x27;brown&#x27;,\n",
       "                                                             &#x27;yellow&#x27;, &#x27;orange&#x27;,\n",
       "                                                             &#x27;green&#x27;, &#x27;custom&#x27;,\n",
       "                                                             &#x27;purple&#x27;]]),\n",
       "                                 [&#x27;condition&#x27;, &#x27;fuel&#x27;, &#x27;title_status&#x27;,\n",
       "                                  &#x27;transmission&#x27;, &#x27;drive&#x27;, &#x27;size&#x27;,\n",
       "                                  &#x27;paint_color&#x27;])])</pre><b>In a Jupyter environment, please rerun this cell to show the HTML representation or trust the notebook. <br />On GitHub, the HTML representation is unable to render, please try loading this page with nbviewer.org.</b></div><div class=\"sk-container\" hidden><div class=\"sk-item sk-dashed-wrapped\"><div class=\"sk-label-container\"><div class=\"sk-label sk-toggleable\"><input class=\"sk-toggleable__control sk-hidden--visually\" id=\"sk-estimator-id-1\" type=\"checkbox\" ><label for=\"sk-estimator-id-1\" class=\"sk-toggleable__label sk-toggleable__label-arrow\">ColumnTransformer</label><div class=\"sk-toggleable__content\"><pre>ColumnTransformer(transformers=[(&#x27;ordinal&#x27;,\n",
       "                                 OrdinalEncoder(categories=[[&#x27;salvage&#x27;, &#x27;fair&#x27;,\n",
       "                                                             &#x27;good&#x27;,\n",
       "                                                             &#x27;excellent&#x27;,\n",
       "                                                             &#x27;like new&#x27;,\n",
       "                                                             &#x27;new&#x27;],\n",
       "                                                            [&#x27;other&#x27;, &#x27;diesel&#x27;,\n",
       "                                                             &#x27;gas&#x27;, &#x27;hybrid&#x27;,\n",
       "                                                             &#x27;electric&#x27;],\n",
       "                                                            [&#x27;salvage&#x27;,\n",
       "                                                             &#x27;missing&#x27;,\n",
       "                                                             &#x27;parts only&#x27;,\n",
       "                                                             &#x27;rebuilt&#x27;, &#x27;lien&#x27;,\n",
       "                                                             &#x27;clean&#x27;],\n",
       "                                                            [&#x27;other&#x27;, &#x27;manual&#x27;,\n",
       "                                                             &#x27;automatic&#x27;],\n",
       "                                                            [&#x27;fwd&#x27;, &#x27;rwd&#x27;,\n",
       "                                                             &#x27;4wd&#x27;],\n",
       "                                                            [&#x27;mid-size&#x27;,\n",
       "                                                             &#x27;full-size&#x27;,\n",
       "                                                             &#x27;sub-compact&#x27;,\n",
       "                                                             &#x27;compact&#x27;],\n",
       "                                                            [&#x27;white&#x27;, &#x27;blue&#x27;,\n",
       "                                                             &#x27;red&#x27;, &#x27;black&#x27;,\n",
       "                                                             &#x27;silver&#x27;, &#x27;grey&#x27;,\n",
       "                                                             &#x27;none&#x27;, &#x27;brown&#x27;,\n",
       "                                                             &#x27;yellow&#x27;, &#x27;orange&#x27;,\n",
       "                                                             &#x27;green&#x27;, &#x27;custom&#x27;,\n",
       "                                                             &#x27;purple&#x27;]]),\n",
       "                                 [&#x27;condition&#x27;, &#x27;fuel&#x27;, &#x27;title_status&#x27;,\n",
       "                                  &#x27;transmission&#x27;, &#x27;drive&#x27;, &#x27;size&#x27;,\n",
       "                                  &#x27;paint_color&#x27;])])</pre></div></div></div><div class=\"sk-parallel\"><div class=\"sk-parallel-item\"><div class=\"sk-item\"><div class=\"sk-label-container\"><div class=\"sk-label sk-toggleable\"><input class=\"sk-toggleable__control sk-hidden--visually\" id=\"sk-estimator-id-2\" type=\"checkbox\" ><label for=\"sk-estimator-id-2\" class=\"sk-toggleable__label sk-toggleable__label-arrow\">ordinal</label><div class=\"sk-toggleable__content\"><pre>[&#x27;condition&#x27;, &#x27;fuel&#x27;, &#x27;title_status&#x27;, &#x27;transmission&#x27;, &#x27;drive&#x27;, &#x27;size&#x27;, &#x27;paint_color&#x27;]</pre></div></div></div><div class=\"sk-serial\"><div class=\"sk-item\"><div class=\"sk-estimator sk-toggleable\"><input class=\"sk-toggleable__control sk-hidden--visually\" id=\"sk-estimator-id-3\" type=\"checkbox\" ><label for=\"sk-estimator-id-3\" class=\"sk-toggleable__label sk-toggleable__label-arrow\">OrdinalEncoder</label><div class=\"sk-toggleable__content\"><pre>OrdinalEncoder(categories=[[&#x27;salvage&#x27;, &#x27;fair&#x27;, &#x27;good&#x27;, &#x27;excellent&#x27;, &#x27;like new&#x27;,\n",
       "                            &#x27;new&#x27;],\n",
       "                           [&#x27;other&#x27;, &#x27;diesel&#x27;, &#x27;gas&#x27;, &#x27;hybrid&#x27;, &#x27;electric&#x27;],\n",
       "                           [&#x27;salvage&#x27;, &#x27;missing&#x27;, &#x27;parts only&#x27;, &#x27;rebuilt&#x27;,\n",
       "                            &#x27;lien&#x27;, &#x27;clean&#x27;],\n",
       "                           [&#x27;other&#x27;, &#x27;manual&#x27;, &#x27;automatic&#x27;],\n",
       "                           [&#x27;fwd&#x27;, &#x27;rwd&#x27;, &#x27;4wd&#x27;],\n",
       "                           [&#x27;mid-size&#x27;, &#x27;full-size&#x27;, &#x27;sub-compact&#x27;, &#x27;compact&#x27;],\n",
       "                           [&#x27;white&#x27;, &#x27;blue&#x27;, &#x27;red&#x27;, &#x27;black&#x27;, &#x27;silver&#x27;, &#x27;grey&#x27;,\n",
       "                            &#x27;none&#x27;, &#x27;brown&#x27;, &#x27;yellow&#x27;, &#x27;orange&#x27;, &#x27;green&#x27;,\n",
       "                            &#x27;custom&#x27;, &#x27;purple&#x27;]])</pre></div></div></div></div></div></div></div></div></div></div>"
      ],
      "text/plain": [
       "ColumnTransformer(transformers=[('ordinal',\n",
       "                                 OrdinalEncoder(categories=[['salvage', 'fair',\n",
       "                                                             'good',\n",
       "                                                             'excellent',\n",
       "                                                             'like new',\n",
       "                                                             'new'],\n",
       "                                                            ['other', 'diesel',\n",
       "                                                             'gas', 'hybrid',\n",
       "                                                             'electric'],\n",
       "                                                            ['salvage',\n",
       "                                                             'missing',\n",
       "                                                             'parts only',\n",
       "                                                             'rebuilt', 'lien',\n",
       "                                                             'clean'],\n",
       "                                                            ['other', 'manual',\n",
       "                                                             'automatic'],\n",
       "                                                            ['fwd', 'rwd',\n",
       "                                                             '4wd'],\n",
       "                                                            ['mid-size',\n",
       "                                                             'full-size',\n",
       "                                                             'sub-compact',\n",
       "                                                             'compact'],\n",
       "                                                            ['white', 'blue',\n",
       "                                                             'red', 'black',\n",
       "                                                             'silver', 'grey',\n",
       "                                                             'none', 'brown',\n",
       "                                                             'yellow', 'orange',\n",
       "                                                             'green', 'custom',\n",
       "                                                             'purple']]),\n",
       "                                 ['condition', 'fuel', 'title_status',\n",
       "                                  'transmission', 'drive', 'size',\n",
       "                                  'paint_color'])])"
      ]
     },
     "execution_count": 48,
     "metadata": {},
     "output_type": "execute_result"
    }
   ],
   "source": [
    "ct_ordinal= ColumnTransformer([(\"ordinal\", OrdinalEncoder(categories=ordinal_lists),ordinal_columns)])\n",
    "ct_ordinal.fit(data_v6)"
   ]
  },
  {
   "cell_type": "code",
   "execution_count": 49,
   "metadata": {},
   "outputs": [
    {
     "name": "stdout",
     "output_type": "stream",
     "text": [
      "<class 'pandas.core.frame.DataFrame'>\n",
      "RangeIndex: 241719 entries, 0 to 241718\n",
      "Data columns (total 15 columns):\n",
      " #   Column        Non-Null Count   Dtype  \n",
      "---  ------        --------------   -----  \n",
      " 0   price         241719 non-null  int64  \n",
      " 1   year          241719 non-null  float64\n",
      " 2   manufacturer  241719 non-null  object \n",
      " 3   model         241719 non-null  object \n",
      " 4   cylinders     241719 non-null  int64  \n",
      " 5   odometer      241719 non-null  float64\n",
      " 6   type          241719 non-null  object \n",
      " 7   posting_date  241719 non-null  int64  \n",
      " 8   condition     241719 non-null  float64\n",
      " 9   fuel          241719 non-null  float64\n",
      " 10  title_status  241719 non-null  float64\n",
      " 11  transmission  241719 non-null  float64\n",
      " 12  drive         241719 non-null  float64\n",
      " 13  size          241719 non-null  float64\n",
      " 14  paint_color   241719 non-null  float64\n",
      "dtypes: float64(9), int64(3), object(3)\n",
      "memory usage: 27.7+ MB\n"
     ]
    }
   ],
   "source": [
    "ordinal_df = pd.DataFrame(ct_ordinal.transform(data_v6), columns= ordinal_columns)\n",
    "\n",
    "data_v7 = data_v6.copy()\n",
    "data_v7.reset_index(inplace=True, drop=True)\n",
    "data_v7.drop(columns=ordinal_columns, inplace= True) \n",
    "data_v7[ordinal_columns]= ordinal_df[ordinal_columns]\n",
    "# data_v7=pd.concat([data_v7, ordinal_df], axis=1, join=\"inner\")\n",
    "data_v7.info()\n"
   ]
  },
  {
   "cell_type": "code",
   "execution_count": 50,
   "metadata": {},
   "outputs": [
    {
     "data": {
      "text/html": [
       "<div>\n",
       "<style scoped>\n",
       "    .dataframe tbody tr th:only-of-type {\n",
       "        vertical-align: middle;\n",
       "    }\n",
       "\n",
       "    .dataframe tbody tr th {\n",
       "        vertical-align: top;\n",
       "    }\n",
       "\n",
       "    .dataframe thead th {\n",
       "        text-align: right;\n",
       "    }\n",
       "</style>\n",
       "<table border=\"1\" class=\"dataframe\">\n",
       "  <thead>\n",
       "    <tr style=\"text-align: right;\">\n",
       "      <th></th>\n",
       "      <th>price</th>\n",
       "      <th>year</th>\n",
       "      <th>cylinders</th>\n",
       "      <th>odometer</th>\n",
       "      <th>posting_date</th>\n",
       "      <th>condition</th>\n",
       "      <th>fuel</th>\n",
       "      <th>title_status</th>\n",
       "      <th>transmission</th>\n",
       "      <th>drive</th>\n",
       "      <th>size</th>\n",
       "      <th>paint_color</th>\n",
       "    </tr>\n",
       "  </thead>\n",
       "  <tbody>\n",
       "    <tr>\n",
       "      <th>count</th>\n",
       "      <td>2.417190e+05</td>\n",
       "      <td>241719.000000</td>\n",
       "      <td>241719.000000</td>\n",
       "      <td>2.417190e+05</td>\n",
       "      <td>2.417190e+05</td>\n",
       "      <td>241719.000000</td>\n",
       "      <td>241719.000000</td>\n",
       "      <td>241719.000000</td>\n",
       "      <td>241719.000000</td>\n",
       "      <td>241719.000000</td>\n",
       "      <td>241719.000000</td>\n",
       "      <td>241719.000000</td>\n",
       "    </tr>\n",
       "    <tr>\n",
       "      <th>mean</th>\n",
       "      <td>6.151027e+04</td>\n",
       "      <td>2010.733703</td>\n",
       "      <td>6.570108</td>\n",
       "      <td>9.732563e+04</td>\n",
       "      <td>2.021044e+07</td>\n",
       "      <td>2.541662</td>\n",
       "      <td>1.788767</td>\n",
       "      <td>4.892644</td>\n",
       "      <td>1.462504</td>\n",
       "      <td>1.020578</td>\n",
       "      <td>0.993128</td>\n",
       "      <td>3.343192</td>\n",
       "    </tr>\n",
       "    <tr>\n",
       "      <th>std</th>\n",
       "      <td>1.128491e+07</td>\n",
       "      <td>9.831953</td>\n",
       "      <td>1.643879</td>\n",
       "      <td>2.146261e+05</td>\n",
       "      <td>3.763783e+01</td>\n",
       "      <td>0.720952</td>\n",
       "      <td>0.621617</td>\n",
       "      <td>0.605503</td>\n",
       "      <td>0.850551</td>\n",
       "      <td>0.765271</td>\n",
       "      <td>0.569998</td>\n",
       "      <td>2.663288</td>\n",
       "    </tr>\n",
       "    <tr>\n",
       "      <th>min</th>\n",
       "      <td>0.000000e+00</td>\n",
       "      <td>1900.000000</td>\n",
       "      <td>0.000000</td>\n",
       "      <td>0.000000e+00</td>\n",
       "      <td>2.021040e+07</td>\n",
       "      <td>0.000000</td>\n",
       "      <td>0.000000</td>\n",
       "      <td>0.000000</td>\n",
       "      <td>0.000000</td>\n",
       "      <td>0.000000</td>\n",
       "      <td>0.000000</td>\n",
       "      <td>0.000000</td>\n",
       "    </tr>\n",
       "    <tr>\n",
       "      <th>25%</th>\n",
       "      <td>6.500000e+03</td>\n",
       "      <td>2008.000000</td>\n",
       "      <td>6.000000</td>\n",
       "      <td>3.394600e+04</td>\n",
       "      <td>2.021042e+07</td>\n",
       "      <td>2.000000</td>\n",
       "      <td>2.000000</td>\n",
       "      <td>5.000000</td>\n",
       "      <td>1.000000</td>\n",
       "      <td>0.000000</td>\n",
       "      <td>1.000000</td>\n",
       "      <td>1.000000</td>\n",
       "    </tr>\n",
       "    <tr>\n",
       "      <th>50%</th>\n",
       "      <td>1.450000e+04</td>\n",
       "      <td>2013.000000</td>\n",
       "      <td>8.000000</td>\n",
       "      <td>8.339400e+04</td>\n",
       "      <td>2.021043e+07</td>\n",
       "      <td>2.000000</td>\n",
       "      <td>2.000000</td>\n",
       "      <td>5.000000</td>\n",
       "      <td>2.000000</td>\n",
       "      <td>1.000000</td>\n",
       "      <td>1.000000</td>\n",
       "      <td>3.000000</td>\n",
       "    </tr>\n",
       "    <tr>\n",
       "      <th>75%</th>\n",
       "      <td>2.699000e+04</td>\n",
       "      <td>2017.000000</td>\n",
       "      <td>8.000000</td>\n",
       "      <td>1.350435e+05</td>\n",
       "      <td>2.021050e+07</td>\n",
       "      <td>3.000000</td>\n",
       "      <td>2.000000</td>\n",
       "      <td>5.000000</td>\n",
       "      <td>2.000000</td>\n",
       "      <td>2.000000</td>\n",
       "      <td>1.000000</td>\n",
       "      <td>6.000000</td>\n",
       "    </tr>\n",
       "    <tr>\n",
       "      <th>max</th>\n",
       "      <td>3.736929e+09</td>\n",
       "      <td>2022.000000</td>\n",
       "      <td>12.000000</td>\n",
       "      <td>1.000000e+07</td>\n",
       "      <td>2.021050e+07</td>\n",
       "      <td>5.000000</td>\n",
       "      <td>4.000000</td>\n",
       "      <td>5.000000</td>\n",
       "      <td>2.000000</td>\n",
       "      <td>2.000000</td>\n",
       "      <td>3.000000</td>\n",
       "      <td>12.000000</td>\n",
       "    </tr>\n",
       "  </tbody>\n",
       "</table>\n",
       "</div>"
      ],
      "text/plain": [
       "              price           year      cylinders      odometer  posting_date  \\\n",
       "count  2.417190e+05  241719.000000  241719.000000  2.417190e+05  2.417190e+05   \n",
       "mean   6.151027e+04    2010.733703       6.570108  9.732563e+04  2.021044e+07   \n",
       "std    1.128491e+07       9.831953       1.643879  2.146261e+05  3.763783e+01   \n",
       "min    0.000000e+00    1900.000000       0.000000  0.000000e+00  2.021040e+07   \n",
       "25%    6.500000e+03    2008.000000       6.000000  3.394600e+04  2.021042e+07   \n",
       "50%    1.450000e+04    2013.000000       8.000000  8.339400e+04  2.021043e+07   \n",
       "75%    2.699000e+04    2017.000000       8.000000  1.350435e+05  2.021050e+07   \n",
       "max    3.736929e+09    2022.000000      12.000000  1.000000e+07  2.021050e+07   \n",
       "\n",
       "           condition           fuel   title_status   transmission  \\\n",
       "count  241719.000000  241719.000000  241719.000000  241719.000000   \n",
       "mean        2.541662       1.788767       4.892644       1.462504   \n",
       "std         0.720952       0.621617       0.605503       0.850551   \n",
       "min         0.000000       0.000000       0.000000       0.000000   \n",
       "25%         2.000000       2.000000       5.000000       1.000000   \n",
       "50%         2.000000       2.000000       5.000000       2.000000   \n",
       "75%         3.000000       2.000000       5.000000       2.000000   \n",
       "max         5.000000       4.000000       5.000000       2.000000   \n",
       "\n",
       "               drive           size    paint_color  \n",
       "count  241719.000000  241719.000000  241719.000000  \n",
       "mean        1.020578       0.993128       3.343192  \n",
       "std         0.765271       0.569998       2.663288  \n",
       "min         0.000000       0.000000       0.000000  \n",
       "25%         0.000000       1.000000       1.000000  \n",
       "50%         1.000000       1.000000       3.000000  \n",
       "75%         2.000000       1.000000       6.000000  \n",
       "max         2.000000       3.000000      12.000000  "
      ]
     },
     "execution_count": 50,
     "metadata": {},
     "output_type": "execute_result"
    }
   ],
   "source": [
    "data_v7.describe()"
   ]
  },
  {
   "cell_type": "code",
   "execution_count": 51,
   "metadata": {},
   "outputs": [
    {
     "name": "stdout",
     "output_type": "stream",
     "text": [
      "<class 'pandas.core.frame.DataFrame'>\n",
      "RangeIndex: 241719 entries, 0 to 241718\n",
      "Data columns (total 15 columns):\n",
      " #   Column        Non-Null Count   Dtype  \n",
      "---  ------        --------------   -----  \n",
      " 0   price         241719 non-null  int64  \n",
      " 1   year          241719 non-null  float64\n",
      " 2   manufacturer  241719 non-null  object \n",
      " 3   model         241719 non-null  object \n",
      " 4   cylinders     241719 non-null  int64  \n",
      " 5   odometer      241719 non-null  float64\n",
      " 6   type          241719 non-null  object \n",
      " 7   posting_date  241719 non-null  int64  \n",
      " 8   condition     241719 non-null  float64\n",
      " 9   fuel          241719 non-null  float64\n",
      " 10  title_status  241719 non-null  float64\n",
      " 11  transmission  241719 non-null  float64\n",
      " 12  drive         241719 non-null  float64\n",
      " 13  size          241719 non-null  float64\n",
      " 14  paint_color   241719 non-null  float64\n",
      "dtypes: float64(9), int64(3), object(3)\n",
      "memory usage: 27.7+ MB\n"
     ]
    }
   ],
   "source": [
    "ordinal_df = pd.DataFrame(ct_ordinal.transform(data_v6), columns= ordinal_columns)\n",
    "\n",
    "data_v7 = data_v6.copy()\n",
    "data_v7.reset_index(inplace=True, drop=True)\n",
    "data_v7.drop(columns=ordinal_columns, inplace= True) \n",
    "data_v7[ordinal_columns]= ordinal_df[ordinal_columns]\n",
    "# data_v7=pd.concat([data_v7, ordinal_df], axis=1, join=\"inner\")\n",
    "data_v7.info()"
   ]
  },
  {
   "cell_type": "markdown",
   "metadata": {},
   "source": [
    "# Outlier"
   ]
  },
  {
   "cell_type": "markdown",
   "metadata": {},
   "source": [
    "there are many records with nosense prices, then i want to drop the records with price under 1000 and upper thean 100000 \n"
   ]
  },
  {
   "cell_type": "code",
   "execution_count": 52,
   "metadata": {},
   "outputs": [
    {
     "data": {
      "text/html": [
       "<div>\n",
       "<style scoped>\n",
       "    .dataframe tbody tr th:only-of-type {\n",
       "        vertical-align: middle;\n",
       "    }\n",
       "\n",
       "    .dataframe tbody tr th {\n",
       "        vertical-align: top;\n",
       "    }\n",
       "\n",
       "    .dataframe thead th {\n",
       "        text-align: right;\n",
       "    }\n",
       "</style>\n",
       "<table border=\"1\" class=\"dataframe\">\n",
       "  <thead>\n",
       "    <tr style=\"text-align: right;\">\n",
       "      <th></th>\n",
       "      <th>price</th>\n",
       "      <th>year</th>\n",
       "      <th>manufacturer</th>\n",
       "      <th>model</th>\n",
       "      <th>cylinders</th>\n",
       "      <th>odometer</th>\n",
       "      <th>type</th>\n",
       "      <th>posting_date</th>\n",
       "      <th>condition</th>\n",
       "      <th>fuel</th>\n",
       "      <th>title_status</th>\n",
       "      <th>transmission</th>\n",
       "      <th>drive</th>\n",
       "      <th>size</th>\n",
       "      <th>paint_color</th>\n",
       "    </tr>\n",
       "  </thead>\n",
       "  <tbody>\n",
       "    <tr>\n",
       "      <th>0</th>\n",
       "      <td>33590</td>\n",
       "      <td>2014.0</td>\n",
       "      <td>gmc</td>\n",
       "      <td>sierra 1500 crew cab slt</td>\n",
       "      <td>8</td>\n",
       "      <td>57923.0</td>\n",
       "      <td>pickup</td>\n",
       "      <td>20210504</td>\n",
       "      <td>2.0</td>\n",
       "      <td>2.0</td>\n",
       "      <td>5.0</td>\n",
       "      <td>0.0</td>\n",
       "      <td>1.0</td>\n",
       "      <td>1.0</td>\n",
       "      <td>0.0</td>\n",
       "    </tr>\n",
       "    <tr>\n",
       "      <th>1</th>\n",
       "      <td>22590</td>\n",
       "      <td>2010.0</td>\n",
       "      <td>chevrolet</td>\n",
       "      <td>silverado 1500</td>\n",
       "      <td>8</td>\n",
       "      <td>71229.0</td>\n",
       "      <td>pickup</td>\n",
       "      <td>20210504</td>\n",
       "      <td>2.0</td>\n",
       "      <td>2.0</td>\n",
       "      <td>5.0</td>\n",
       "      <td>0.0</td>\n",
       "      <td>1.0</td>\n",
       "      <td>1.0</td>\n",
       "      <td>1.0</td>\n",
       "    </tr>\n",
       "    <tr>\n",
       "      <th>2</th>\n",
       "      <td>39590</td>\n",
       "      <td>2020.0</td>\n",
       "      <td>chevrolet</td>\n",
       "      <td>silverado 1500 crew</td>\n",
       "      <td>8</td>\n",
       "      <td>19160.0</td>\n",
       "      <td>pickup</td>\n",
       "      <td>20210504</td>\n",
       "      <td>2.0</td>\n",
       "      <td>2.0</td>\n",
       "      <td>5.0</td>\n",
       "      <td>0.0</td>\n",
       "      <td>1.0</td>\n",
       "      <td>1.0</td>\n",
       "      <td>2.0</td>\n",
       "    </tr>\n",
       "    <tr>\n",
       "      <th>3</th>\n",
       "      <td>30990</td>\n",
       "      <td>2017.0</td>\n",
       "      <td>toyota</td>\n",
       "      <td>tundra double cab sr</td>\n",
       "      <td>8</td>\n",
       "      <td>41124.0</td>\n",
       "      <td>pickup</td>\n",
       "      <td>20210504</td>\n",
       "      <td>2.0</td>\n",
       "      <td>2.0</td>\n",
       "      <td>5.0</td>\n",
       "      <td>0.0</td>\n",
       "      <td>1.0</td>\n",
       "      <td>1.0</td>\n",
       "      <td>2.0</td>\n",
       "    </tr>\n",
       "    <tr>\n",
       "      <th>4</th>\n",
       "      <td>15000</td>\n",
       "      <td>2013.0</td>\n",
       "      <td>ford</td>\n",
       "      <td>f-150 xlt</td>\n",
       "      <td>6</td>\n",
       "      <td>128000.0</td>\n",
       "      <td>truck</td>\n",
       "      <td>20210503</td>\n",
       "      <td>3.0</td>\n",
       "      <td>2.0</td>\n",
       "      <td>5.0</td>\n",
       "      <td>2.0</td>\n",
       "      <td>1.0</td>\n",
       "      <td>1.0</td>\n",
       "      <td>3.0</td>\n",
       "    </tr>\n",
       "    <tr>\n",
       "      <th>...</th>\n",
       "      <td>...</td>\n",
       "      <td>...</td>\n",
       "      <td>...</td>\n",
       "      <td>...</td>\n",
       "      <td>...</td>\n",
       "      <td>...</td>\n",
       "      <td>...</td>\n",
       "      <td>...</td>\n",
       "      <td>...</td>\n",
       "      <td>...</td>\n",
       "      <td>...</td>\n",
       "      <td>...</td>\n",
       "      <td>...</td>\n",
       "      <td>...</td>\n",
       "      <td>...</td>\n",
       "    </tr>\n",
       "    <tr>\n",
       "      <th>241714</th>\n",
       "      <td>23590</td>\n",
       "      <td>2019.0</td>\n",
       "      <td>nissan</td>\n",
       "      <td>maxima s sedan 4d</td>\n",
       "      <td>6</td>\n",
       "      <td>32226.0</td>\n",
       "      <td>sedan</td>\n",
       "      <td>20210404</td>\n",
       "      <td>2.0</td>\n",
       "      <td>2.0</td>\n",
       "      <td>5.0</td>\n",
       "      <td>0.0</td>\n",
       "      <td>0.0</td>\n",
       "      <td>1.0</td>\n",
       "      <td>6.0</td>\n",
       "    </tr>\n",
       "    <tr>\n",
       "      <th>241715</th>\n",
       "      <td>30590</td>\n",
       "      <td>2020.0</td>\n",
       "      <td>volvo</td>\n",
       "      <td>s60 t5 momentum sedan 4d</td>\n",
       "      <td>8</td>\n",
       "      <td>12029.0</td>\n",
       "      <td>sedan</td>\n",
       "      <td>20210404</td>\n",
       "      <td>2.0</td>\n",
       "      <td>2.0</td>\n",
       "      <td>5.0</td>\n",
       "      <td>0.0</td>\n",
       "      <td>0.0</td>\n",
       "      <td>1.0</td>\n",
       "      <td>2.0</td>\n",
       "    </tr>\n",
       "    <tr>\n",
       "      <th>241716</th>\n",
       "      <td>34990</td>\n",
       "      <td>2020.0</td>\n",
       "      <td>cadillac</td>\n",
       "      <td>xt4 sport suv 4d</td>\n",
       "      <td>8</td>\n",
       "      <td>4174.0</td>\n",
       "      <td>hatchback</td>\n",
       "      <td>20210404</td>\n",
       "      <td>2.0</td>\n",
       "      <td>1.0</td>\n",
       "      <td>5.0</td>\n",
       "      <td>0.0</td>\n",
       "      <td>1.0</td>\n",
       "      <td>1.0</td>\n",
       "      <td>0.0</td>\n",
       "    </tr>\n",
       "    <tr>\n",
       "      <th>241717</th>\n",
       "      <td>28990</td>\n",
       "      <td>2018.0</td>\n",
       "      <td>lexus</td>\n",
       "      <td>es 350 sedan 4d</td>\n",
       "      <td>6</td>\n",
       "      <td>30112.0</td>\n",
       "      <td>sedan</td>\n",
       "      <td>20210404</td>\n",
       "      <td>2.0</td>\n",
       "      <td>2.0</td>\n",
       "      <td>5.0</td>\n",
       "      <td>0.0</td>\n",
       "      <td>0.0</td>\n",
       "      <td>1.0</td>\n",
       "      <td>4.0</td>\n",
       "    </tr>\n",
       "    <tr>\n",
       "      <th>241718</th>\n",
       "      <td>30590</td>\n",
       "      <td>2019.0</td>\n",
       "      <td>bmw</td>\n",
       "      <td>4 series 430i gran coupe</td>\n",
       "      <td>8</td>\n",
       "      <td>22716.0</td>\n",
       "      <td>coupe</td>\n",
       "      <td>20210404</td>\n",
       "      <td>2.0</td>\n",
       "      <td>2.0</td>\n",
       "      <td>5.0</td>\n",
       "      <td>0.0</td>\n",
       "      <td>1.0</td>\n",
       "      <td>1.0</td>\n",
       "      <td>6.0</td>\n",
       "    </tr>\n",
       "  </tbody>\n",
       "</table>\n",
       "<p>227057 rows × 15 columns</p>\n",
       "</div>"
      ],
      "text/plain": [
       "        price    year manufacturer                     model  cylinders  \\\n",
       "0       33590  2014.0          gmc  sierra 1500 crew cab slt          8   \n",
       "1       22590  2010.0    chevrolet            silverado 1500          8   \n",
       "2       39590  2020.0    chevrolet       silverado 1500 crew          8   \n",
       "3       30990  2017.0       toyota      tundra double cab sr          8   \n",
       "4       15000  2013.0         ford                 f-150 xlt          6   \n",
       "...       ...     ...          ...                       ...        ...   \n",
       "241714  23590  2019.0       nissan         maxima s sedan 4d          6   \n",
       "241715  30590  2020.0        volvo  s60 t5 momentum sedan 4d          8   \n",
       "241716  34990  2020.0     cadillac          xt4 sport suv 4d          8   \n",
       "241717  28990  2018.0        lexus           es 350 sedan 4d          6   \n",
       "241718  30590  2019.0          bmw  4 series 430i gran coupe          8   \n",
       "\n",
       "        odometer       type  posting_date  condition  fuel  title_status  \\\n",
       "0        57923.0     pickup      20210504        2.0   2.0           5.0   \n",
       "1        71229.0     pickup      20210504        2.0   2.0           5.0   \n",
       "2        19160.0     pickup      20210504        2.0   2.0           5.0   \n",
       "3        41124.0     pickup      20210504        2.0   2.0           5.0   \n",
       "4       128000.0      truck      20210503        3.0   2.0           5.0   \n",
       "...          ...        ...           ...        ...   ...           ...   \n",
       "241714   32226.0      sedan      20210404        2.0   2.0           5.0   \n",
       "241715   12029.0      sedan      20210404        2.0   2.0           5.0   \n",
       "241716    4174.0  hatchback      20210404        2.0   1.0           5.0   \n",
       "241717   30112.0      sedan      20210404        2.0   2.0           5.0   \n",
       "241718   22716.0      coupe      20210404        2.0   2.0           5.0   \n",
       "\n",
       "        transmission  drive  size  paint_color  \n",
       "0                0.0    1.0   1.0          0.0  \n",
       "1                0.0    1.0   1.0          1.0  \n",
       "2                0.0    1.0   1.0          2.0  \n",
       "3                0.0    1.0   1.0          2.0  \n",
       "4                2.0    1.0   1.0          3.0  \n",
       "...              ...    ...   ...          ...  \n",
       "241714           0.0    0.0   1.0          6.0  \n",
       "241715           0.0    0.0   1.0          2.0  \n",
       "241716           0.0    1.0   1.0          0.0  \n",
       "241717           0.0    0.0   1.0          4.0  \n",
       "241718           0.0    1.0   1.0          6.0  \n",
       "\n",
       "[227057 rows x 15 columns]"
      ]
     },
     "execution_count": 52,
     "metadata": {},
     "output_type": "execute_result"
    }
   ],
   "source": [
    "data_v8 =data_v7[(data_v7['price']> 1000) & (data_v7['price'] < 100000)]\n",
    "data_v8"
   ]
  },
  {
   "cell_type": "code",
   "execution_count": 53,
   "metadata": {},
   "outputs": [],
   "source": [
    "from scipy import stats\n",
    "df_filtered = data_v8.copy()\n",
    "for column in df_filtered.select_dtypes(include=\"number\").columns:\n",
    "    q_low = df_filtered[column].quantile(0.2)\n",
    "    q_hi  = df_filtered[column].quantile(0.8)\n",
    "    data_v9 = df_filtered[(df_filtered[column] < q_hi) & (df_filtered[column] > q_low)]"
   ]
  },
  {
   "cell_type": "code",
   "execution_count": 54,
   "metadata": {},
   "outputs": [
    {
     "data": {
      "text/html": [
       "<div>\n",
       "<style scoped>\n",
       "    .dataframe tbody tr th:only-of-type {\n",
       "        vertical-align: middle;\n",
       "    }\n",
       "\n",
       "    .dataframe tbody tr th {\n",
       "        vertical-align: top;\n",
       "    }\n",
       "\n",
       "    .dataframe thead th {\n",
       "        text-align: right;\n",
       "    }\n",
       "</style>\n",
       "<table border=\"1\" class=\"dataframe\">\n",
       "  <thead>\n",
       "    <tr style=\"text-align: right;\">\n",
       "      <th></th>\n",
       "      <th>price</th>\n",
       "      <th>year</th>\n",
       "      <th>cylinders</th>\n",
       "      <th>odometer</th>\n",
       "      <th>posting_date</th>\n",
       "      <th>condition</th>\n",
       "      <th>fuel</th>\n",
       "      <th>title_status</th>\n",
       "      <th>transmission</th>\n",
       "      <th>drive</th>\n",
       "      <th>size</th>\n",
       "      <th>paint_color</th>\n",
       "    </tr>\n",
       "  </thead>\n",
       "  <tbody>\n",
       "    <tr>\n",
       "      <th>count</th>\n",
       "      <td>122035.000000</td>\n",
       "      <td>122035.000000</td>\n",
       "      <td>122035.000000</td>\n",
       "      <td>1.220350e+05</td>\n",
       "      <td>1.220350e+05</td>\n",
       "      <td>122035.000000</td>\n",
       "      <td>122035.000000</td>\n",
       "      <td>122035.000000</td>\n",
       "      <td>122035.000000</td>\n",
       "      <td>122035.000000</td>\n",
       "      <td>122035.000000</td>\n",
       "      <td>122035.000000</td>\n",
       "    </tr>\n",
       "    <tr>\n",
       "      <th>mean</th>\n",
       "      <td>17960.317335</td>\n",
       "      <td>2010.986709</td>\n",
       "      <td>6.420322</td>\n",
       "      <td>9.447312e+04</td>\n",
       "      <td>2.021044e+07</td>\n",
       "      <td>2.517663</td>\n",
       "      <td>1.803696</td>\n",
       "      <td>4.880559</td>\n",
       "      <td>1.429090</td>\n",
       "      <td>0.989978</td>\n",
       "      <td>0.992904</td>\n",
       "      <td>2.969214</td>\n",
       "    </tr>\n",
       "    <tr>\n",
       "      <th>std</th>\n",
       "      <td>12936.055171</td>\n",
       "      <td>9.212154</td>\n",
       "      <td>1.657810</td>\n",
       "      <td>1.735817e+05</td>\n",
       "      <td>3.785228e+01</td>\n",
       "      <td>0.701707</td>\n",
       "      <td>0.621409</td>\n",
       "      <td>0.629751</td>\n",
       "      <td>0.867508</td>\n",
       "      <td>0.799913</td>\n",
       "      <td>0.632535</td>\n",
       "      <td>1.252349</td>\n",
       "    </tr>\n",
       "    <tr>\n",
       "      <th>min</th>\n",
       "      <td>1057.000000</td>\n",
       "      <td>1900.000000</td>\n",
       "      <td>0.000000</td>\n",
       "      <td>0.000000e+00</td>\n",
       "      <td>2.021040e+07</td>\n",
       "      <td>0.000000</td>\n",
       "      <td>0.000000</td>\n",
       "      <td>0.000000</td>\n",
       "      <td>0.000000</td>\n",
       "      <td>0.000000</td>\n",
       "      <td>0.000000</td>\n",
       "      <td>1.000000</td>\n",
       "    </tr>\n",
       "    <tr>\n",
       "      <th>25%</th>\n",
       "      <td>7194.000000</td>\n",
       "      <td>2008.000000</td>\n",
       "      <td>6.000000</td>\n",
       "      <td>3.442500e+04</td>\n",
       "      <td>2.021042e+07</td>\n",
       "      <td>2.000000</td>\n",
       "      <td>2.000000</td>\n",
       "      <td>5.000000</td>\n",
       "      <td>0.000000</td>\n",
       "      <td>0.000000</td>\n",
       "      <td>1.000000</td>\n",
       "      <td>2.000000</td>\n",
       "    </tr>\n",
       "    <tr>\n",
       "      <th>50%</th>\n",
       "      <td>14990.000000</td>\n",
       "      <td>2013.000000</td>\n",
       "      <td>6.000000</td>\n",
       "      <td>8.316000e+04</td>\n",
       "      <td>2.021043e+07</td>\n",
       "      <td>2.000000</td>\n",
       "      <td>2.000000</td>\n",
       "      <td>5.000000</td>\n",
       "      <td>2.000000</td>\n",
       "      <td>1.000000</td>\n",
       "      <td>1.000000</td>\n",
       "      <td>3.000000</td>\n",
       "    </tr>\n",
       "    <tr>\n",
       "      <th>75%</th>\n",
       "      <td>26990.000000</td>\n",
       "      <td>2017.000000</td>\n",
       "      <td>8.000000</td>\n",
       "      <td>1.340600e+05</td>\n",
       "      <td>2.021050e+07</td>\n",
       "      <td>3.000000</td>\n",
       "      <td>2.000000</td>\n",
       "      <td>5.000000</td>\n",
       "      <td>2.000000</td>\n",
       "      <td>2.000000</td>\n",
       "      <td>1.000000</td>\n",
       "      <td>4.000000</td>\n",
       "    </tr>\n",
       "    <tr>\n",
       "      <th>max</th>\n",
       "      <td>99999.000000</td>\n",
       "      <td>2022.000000</td>\n",
       "      <td>12.000000</td>\n",
       "      <td>1.000000e+07</td>\n",
       "      <td>2.021050e+07</td>\n",
       "      <td>5.000000</td>\n",
       "      <td>4.000000</td>\n",
       "      <td>5.000000</td>\n",
       "      <td>2.000000</td>\n",
       "      <td>2.000000</td>\n",
       "      <td>3.000000</td>\n",
       "      <td>5.000000</td>\n",
       "    </tr>\n",
       "  </tbody>\n",
       "</table>\n",
       "</div>"
      ],
      "text/plain": [
       "               price           year      cylinders      odometer  \\\n",
       "count  122035.000000  122035.000000  122035.000000  1.220350e+05   \n",
       "mean    17960.317335    2010.986709       6.420322  9.447312e+04   \n",
       "std     12936.055171       9.212154       1.657810  1.735817e+05   \n",
       "min      1057.000000    1900.000000       0.000000  0.000000e+00   \n",
       "25%      7194.000000    2008.000000       6.000000  3.442500e+04   \n",
       "50%     14990.000000    2013.000000       6.000000  8.316000e+04   \n",
       "75%     26990.000000    2017.000000       8.000000  1.340600e+05   \n",
       "max     99999.000000    2022.000000      12.000000  1.000000e+07   \n",
       "\n",
       "       posting_date      condition           fuel   title_status  \\\n",
       "count  1.220350e+05  122035.000000  122035.000000  122035.000000   \n",
       "mean   2.021044e+07       2.517663       1.803696       4.880559   \n",
       "std    3.785228e+01       0.701707       0.621409       0.629751   \n",
       "min    2.021040e+07       0.000000       0.000000       0.000000   \n",
       "25%    2.021042e+07       2.000000       2.000000       5.000000   \n",
       "50%    2.021043e+07       2.000000       2.000000       5.000000   \n",
       "75%    2.021050e+07       3.000000       2.000000       5.000000   \n",
       "max    2.021050e+07       5.000000       4.000000       5.000000   \n",
       "\n",
       "        transmission          drive           size    paint_color  \n",
       "count  122035.000000  122035.000000  122035.000000  122035.000000  \n",
       "mean        1.429090       0.989978       0.992904       2.969214  \n",
       "std         0.867508       0.799913       0.632535       1.252349  \n",
       "min         0.000000       0.000000       0.000000       1.000000  \n",
       "25%         0.000000       0.000000       1.000000       2.000000  \n",
       "50%         2.000000       1.000000       1.000000       3.000000  \n",
       "75%         2.000000       2.000000       1.000000       4.000000  \n",
       "max         2.000000       2.000000       3.000000       5.000000  "
      ]
     },
     "execution_count": 54,
     "metadata": {},
     "output_type": "execute_result"
    }
   ],
   "source": [
    "data_v9.describe()"
   ]
  },
  {
   "cell_type": "code",
   "execution_count": null,
   "metadata": {},
   "outputs": [],
   "source": []
  },
  {
   "cell_type": "code",
   "execution_count": 55,
   "metadata": {},
   "outputs": [],
   "source": [
    "# data_v7['models_rank']= (\n",
    "#                     data_v7\n",
    "#                             .groupby(['manufacturer','model'])\n",
    "#                             # .agg({'price': 'mean'})\n",
    "#                             # .sort_values('price')\n",
    "#                             # .reset_index()\n",
    "#                             ['model'].rank(method='first')\n",
    "#                         )"
   ]
  },
  {
   "cell_type": "code",
   "execution_count": 56,
   "metadata": {},
   "outputs": [],
   "source": [
    "# data_v7.groupby('manufacturer')['model'].nunique()"
   ]
  },
  {
   "cell_type": "code",
   "execution_count": 82,
   "metadata": {},
   "outputs": [
    {
     "data": {
      "text/html": [
       "<div>\n",
       "<style scoped>\n",
       "    .dataframe tbody tr th:only-of-type {\n",
       "        vertical-align: middle;\n",
       "    }\n",
       "\n",
       "    .dataframe tbody tr th {\n",
       "        vertical-align: top;\n",
       "    }\n",
       "\n",
       "    .dataframe thead th {\n",
       "        text-align: right;\n",
       "    }\n",
       "</style>\n",
       "<table border=\"1\" class=\"dataframe\">\n",
       "  <thead>\n",
       "    <tr style=\"text-align: right;\">\n",
       "      <th></th>\n",
       "      <th>price</th>\n",
       "      <th>year</th>\n",
       "      <th>manufacturer</th>\n",
       "      <th>model</th>\n",
       "      <th>cylinders</th>\n",
       "      <th>odometer</th>\n",
       "      <th>type</th>\n",
       "      <th>posting_date</th>\n",
       "      <th>condition</th>\n",
       "      <th>fuel</th>\n",
       "      <th>title_status</th>\n",
       "      <th>transmission</th>\n",
       "      <th>drive</th>\n",
       "      <th>size</th>\n",
       "      <th>paint_color</th>\n",
       "    </tr>\n",
       "  </thead>\n",
       "  <tbody>\n",
       "    <tr>\n",
       "      <th>0</th>\n",
       "      <td>22590</td>\n",
       "      <td>2010.0</td>\n",
       "      <td>chevrolet</td>\n",
       "      <td>silverado 1500</td>\n",
       "      <td>8</td>\n",
       "      <td>71229.0</td>\n",
       "      <td>pickup</td>\n",
       "      <td>20210504</td>\n",
       "      <td>2.0</td>\n",
       "      <td>2.0</td>\n",
       "      <td>5.0</td>\n",
       "      <td>0.0</td>\n",
       "      <td>1.0</td>\n",
       "      <td>1.0</td>\n",
       "      <td>1.0</td>\n",
       "    </tr>\n",
       "    <tr>\n",
       "      <th>1</th>\n",
       "      <td>39590</td>\n",
       "      <td>2020.0</td>\n",
       "      <td>chevrolet</td>\n",
       "      <td>silverado 1500 crew</td>\n",
       "      <td>8</td>\n",
       "      <td>19160.0</td>\n",
       "      <td>pickup</td>\n",
       "      <td>20210504</td>\n",
       "      <td>2.0</td>\n",
       "      <td>2.0</td>\n",
       "      <td>5.0</td>\n",
       "      <td>0.0</td>\n",
       "      <td>1.0</td>\n",
       "      <td>1.0</td>\n",
       "      <td>2.0</td>\n",
       "    </tr>\n",
       "    <tr>\n",
       "      <th>2</th>\n",
       "      <td>30990</td>\n",
       "      <td>2017.0</td>\n",
       "      <td>toyota</td>\n",
       "      <td>tundra double cab sr</td>\n",
       "      <td>8</td>\n",
       "      <td>41124.0</td>\n",
       "      <td>pickup</td>\n",
       "      <td>20210504</td>\n",
       "      <td>2.0</td>\n",
       "      <td>2.0</td>\n",
       "      <td>5.0</td>\n",
       "      <td>0.0</td>\n",
       "      <td>1.0</td>\n",
       "      <td>1.0</td>\n",
       "      <td>2.0</td>\n",
       "    </tr>\n",
       "    <tr>\n",
       "      <th>3</th>\n",
       "      <td>15000</td>\n",
       "      <td>2013.0</td>\n",
       "      <td>ford</td>\n",
       "      <td>f-150 xlt</td>\n",
       "      <td>6</td>\n",
       "      <td>128000.0</td>\n",
       "      <td>truck</td>\n",
       "      <td>20210503</td>\n",
       "      <td>3.0</td>\n",
       "      <td>2.0</td>\n",
       "      <td>5.0</td>\n",
       "      <td>2.0</td>\n",
       "      <td>1.0</td>\n",
       "      <td>1.0</td>\n",
       "      <td>3.0</td>\n",
       "    </tr>\n",
       "    <tr>\n",
       "      <th>4</th>\n",
       "      <td>27990</td>\n",
       "      <td>2012.0</td>\n",
       "      <td>gmc</td>\n",
       "      <td>sierra 2500 hd extended cab</td>\n",
       "      <td>8</td>\n",
       "      <td>68696.0</td>\n",
       "      <td>pickup</td>\n",
       "      <td>20210503</td>\n",
       "      <td>2.0</td>\n",
       "      <td>2.0</td>\n",
       "      <td>5.0</td>\n",
       "      <td>0.0</td>\n",
       "      <td>2.0</td>\n",
       "      <td>1.0</td>\n",
       "      <td>3.0</td>\n",
       "    </tr>\n",
       "    <tr>\n",
       "      <th>...</th>\n",
       "      <td>...</td>\n",
       "      <td>...</td>\n",
       "      <td>...</td>\n",
       "      <td>...</td>\n",
       "      <td>...</td>\n",
       "      <td>...</td>\n",
       "      <td>...</td>\n",
       "      <td>...</td>\n",
       "      <td>...</td>\n",
       "      <td>...</td>\n",
       "      <td>...</td>\n",
       "      <td>...</td>\n",
       "      <td>...</td>\n",
       "      <td>...</td>\n",
       "      <td>...</td>\n",
       "    </tr>\n",
       "    <tr>\n",
       "      <th>122030</th>\n",
       "      <td>34590</td>\n",
       "      <td>2020.0</td>\n",
       "      <td>alfa-romeo</td>\n",
       "      <td>romeo giulia sedan 4d</td>\n",
       "      <td>8</td>\n",
       "      <td>2498.0</td>\n",
       "      <td>sedan</td>\n",
       "      <td>20210405</td>\n",
       "      <td>2.0</td>\n",
       "      <td>0.0</td>\n",
       "      <td>5.0</td>\n",
       "      <td>0.0</td>\n",
       "      <td>1.0</td>\n",
       "      <td>1.0</td>\n",
       "      <td>3.0</td>\n",
       "    </tr>\n",
       "    <tr>\n",
       "      <th>122031</th>\n",
       "      <td>32990</td>\n",
       "      <td>2016.0</td>\n",
       "      <td>infiniti</td>\n",
       "      <td>qx80 sport utility 4d</td>\n",
       "      <td>8</td>\n",
       "      <td>55612.0</td>\n",
       "      <td>other</td>\n",
       "      <td>20210405</td>\n",
       "      <td>2.0</td>\n",
       "      <td>2.0</td>\n",
       "      <td>5.0</td>\n",
       "      <td>2.0</td>\n",
       "      <td>1.0</td>\n",
       "      <td>1.0</td>\n",
       "      <td>3.0</td>\n",
       "    </tr>\n",
       "    <tr>\n",
       "      <th>122032</th>\n",
       "      <td>22990</td>\n",
       "      <td>2020.0</td>\n",
       "      <td>hyundai</td>\n",
       "      <td>sonata se sedan 4d</td>\n",
       "      <td>8</td>\n",
       "      <td>3066.0</td>\n",
       "      <td>sedan</td>\n",
       "      <td>20210404</td>\n",
       "      <td>2.0</td>\n",
       "      <td>2.0</td>\n",
       "      <td>5.0</td>\n",
       "      <td>0.0</td>\n",
       "      <td>0.0</td>\n",
       "      <td>1.0</td>\n",
       "      <td>1.0</td>\n",
       "    </tr>\n",
       "    <tr>\n",
       "      <th>122033</th>\n",
       "      <td>30590</td>\n",
       "      <td>2020.0</td>\n",
       "      <td>volvo</td>\n",
       "      <td>s60 t5 momentum sedan 4d</td>\n",
       "      <td>8</td>\n",
       "      <td>12029.0</td>\n",
       "      <td>sedan</td>\n",
       "      <td>20210404</td>\n",
       "      <td>2.0</td>\n",
       "      <td>2.0</td>\n",
       "      <td>5.0</td>\n",
       "      <td>0.0</td>\n",
       "      <td>0.0</td>\n",
       "      <td>1.0</td>\n",
       "      <td>2.0</td>\n",
       "    </tr>\n",
       "    <tr>\n",
       "      <th>122034</th>\n",
       "      <td>28990</td>\n",
       "      <td>2018.0</td>\n",
       "      <td>lexus</td>\n",
       "      <td>es 350 sedan 4d</td>\n",
       "      <td>6</td>\n",
       "      <td>30112.0</td>\n",
       "      <td>sedan</td>\n",
       "      <td>20210404</td>\n",
       "      <td>2.0</td>\n",
       "      <td>2.0</td>\n",
       "      <td>5.0</td>\n",
       "      <td>0.0</td>\n",
       "      <td>0.0</td>\n",
       "      <td>1.0</td>\n",
       "      <td>4.0</td>\n",
       "    </tr>\n",
       "  </tbody>\n",
       "</table>\n",
       "<p>122035 rows × 15 columns</p>\n",
       "</div>"
      ],
      "text/plain": [
       "        price    year manufacturer                        model  cylinders  \\\n",
       "0       22590  2010.0    chevrolet               silverado 1500          8   \n",
       "1       39590  2020.0    chevrolet          silverado 1500 crew          8   \n",
       "2       30990  2017.0       toyota         tundra double cab sr          8   \n",
       "3       15000  2013.0         ford                    f-150 xlt          6   \n",
       "4       27990  2012.0          gmc  sierra 2500 hd extended cab          8   \n",
       "...       ...     ...          ...                          ...        ...   \n",
       "122030  34590  2020.0   alfa-romeo        romeo giulia sedan 4d          8   \n",
       "122031  32990  2016.0     infiniti        qx80 sport utility 4d          8   \n",
       "122032  22990  2020.0      hyundai           sonata se sedan 4d          8   \n",
       "122033  30590  2020.0        volvo     s60 t5 momentum sedan 4d          8   \n",
       "122034  28990  2018.0        lexus              es 350 sedan 4d          6   \n",
       "\n",
       "        odometer    type  posting_date  condition  fuel  title_status  \\\n",
       "0        71229.0  pickup      20210504        2.0   2.0           5.0   \n",
       "1        19160.0  pickup      20210504        2.0   2.0           5.0   \n",
       "2        41124.0  pickup      20210504        2.0   2.0           5.0   \n",
       "3       128000.0   truck      20210503        3.0   2.0           5.0   \n",
       "4        68696.0  pickup      20210503        2.0   2.0           5.0   \n",
       "...          ...     ...           ...        ...   ...           ...   \n",
       "122030    2498.0   sedan      20210405        2.0   0.0           5.0   \n",
       "122031   55612.0   other      20210405        2.0   2.0           5.0   \n",
       "122032    3066.0   sedan      20210404        2.0   2.0           5.0   \n",
       "122033   12029.0   sedan      20210404        2.0   2.0           5.0   \n",
       "122034   30112.0   sedan      20210404        2.0   2.0           5.0   \n",
       "\n",
       "        transmission  drive  size  paint_color  \n",
       "0                0.0    1.0   1.0          1.0  \n",
       "1                0.0    1.0   1.0          2.0  \n",
       "2                0.0    1.0   1.0          2.0  \n",
       "3                2.0    1.0   1.0          3.0  \n",
       "4                0.0    2.0   1.0          3.0  \n",
       "...              ...    ...   ...          ...  \n",
       "122030           0.0    1.0   1.0          3.0  \n",
       "122031           2.0    1.0   1.0          3.0  \n",
       "122032           0.0    0.0   1.0          1.0  \n",
       "122033           0.0    0.0   1.0          2.0  \n",
       "122034           0.0    0.0   1.0          4.0  \n",
       "\n",
       "[122035 rows x 15 columns]"
      ]
     },
     "execution_count": 82,
     "metadata": {},
     "output_type": "execute_result"
    }
   ],
   "source": [
    "data_v9_2 = data_v9.reset_index(drop= True)\n",
    "data_v9_2"
   ]
  },
  {
   "cell_type": "code",
   "execution_count": 83,
   "metadata": {},
   "outputs": [
    {
     "data": {
      "text/html": [
       "<style>#sk-container-id-5 {color: black;background-color: white;}#sk-container-id-5 pre{padding: 0;}#sk-container-id-5 div.sk-toggleable {background-color: white;}#sk-container-id-5 label.sk-toggleable__label {cursor: pointer;display: block;width: 100%;margin-bottom: 0;padding: 0.3em;box-sizing: border-box;text-align: center;}#sk-container-id-5 label.sk-toggleable__label-arrow:before {content: \"▸\";float: left;margin-right: 0.25em;color: #696969;}#sk-container-id-5 label.sk-toggleable__label-arrow:hover:before {color: black;}#sk-container-id-5 div.sk-estimator:hover label.sk-toggleable__label-arrow:before {color: black;}#sk-container-id-5 div.sk-toggleable__content {max-height: 0;max-width: 0;overflow: hidden;text-align: left;background-color: #f0f8ff;}#sk-container-id-5 div.sk-toggleable__content pre {margin: 0.2em;color: black;border-radius: 0.25em;background-color: #f0f8ff;}#sk-container-id-5 input.sk-toggleable__control:checked~div.sk-toggleable__content {max-height: 200px;max-width: 100%;overflow: auto;}#sk-container-id-5 input.sk-toggleable__control:checked~label.sk-toggleable__label-arrow:before {content: \"▾\";}#sk-container-id-5 div.sk-estimator input.sk-toggleable__control:checked~label.sk-toggleable__label {background-color: #d4ebff;}#sk-container-id-5 div.sk-label input.sk-toggleable__control:checked~label.sk-toggleable__label {background-color: #d4ebff;}#sk-container-id-5 input.sk-hidden--visually {border: 0;clip: rect(1px 1px 1px 1px);clip: rect(1px, 1px, 1px, 1px);height: 1px;margin: -1px;overflow: hidden;padding: 0;position: absolute;width: 1px;}#sk-container-id-5 div.sk-estimator {font-family: monospace;background-color: #f0f8ff;border: 1px dotted black;border-radius: 0.25em;box-sizing: border-box;margin-bottom: 0.5em;}#sk-container-id-5 div.sk-estimator:hover {background-color: #d4ebff;}#sk-container-id-5 div.sk-parallel-item::after {content: \"\";width: 100%;border-bottom: 1px solid gray;flex-grow: 1;}#sk-container-id-5 div.sk-label:hover label.sk-toggleable__label {background-color: #d4ebff;}#sk-container-id-5 div.sk-serial::before {content: \"\";position: absolute;border-left: 1px solid gray;box-sizing: border-box;top: 0;bottom: 0;left: 50%;z-index: 0;}#sk-container-id-5 div.sk-serial {display: flex;flex-direction: column;align-items: center;background-color: white;padding-right: 0.2em;padding-left: 0.2em;position: relative;}#sk-container-id-5 div.sk-item {position: relative;z-index: 1;}#sk-container-id-5 div.sk-parallel {display: flex;align-items: stretch;justify-content: center;background-color: white;position: relative;}#sk-container-id-5 div.sk-item::before, #sk-container-id-5 div.sk-parallel-item::before {content: \"\";position: absolute;border-left: 1px solid gray;box-sizing: border-box;top: 0;bottom: 0;left: 50%;z-index: -1;}#sk-container-id-5 div.sk-parallel-item {display: flex;flex-direction: column;z-index: 1;position: relative;background-color: white;}#sk-container-id-5 div.sk-parallel-item:first-child::after {align-self: flex-end;width: 50%;}#sk-container-id-5 div.sk-parallel-item:last-child::after {align-self: flex-start;width: 50%;}#sk-container-id-5 div.sk-parallel-item:only-child::after {width: 0;}#sk-container-id-5 div.sk-dashed-wrapped {border: 1px dashed gray;margin: 0 0.4em 0.5em 0.4em;box-sizing: border-box;padding-bottom: 0.4em;background-color: white;}#sk-container-id-5 div.sk-label label {font-family: monospace;font-weight: bold;display: inline-block;line-height: 1.2em;}#sk-container-id-5 div.sk-label-container {text-align: center;}#sk-container-id-5 div.sk-container {/* jupyter's `normalize.less` sets `[hidden] { display: none; }` but bootstrap.min.css set `[hidden] { display: none !important; }` so we also need the `!important` here to be able to override the default hidden behavior on the sphinx rendered scikit-learn.org. See: https://github.com/scikit-learn/scikit-learn/issues/21755 */display: inline-block !important;position: relative;}#sk-container-id-5 div.sk-text-repr-fallback {display: none;}</style><div id=\"sk-container-id-5\" class=\"sk-top-container\"><div class=\"sk-text-repr-fallback\"><pre>ColumnTransformer(transformers=[(&#x27;ordinal&#x27;, OneHotEncoder(sparse=False),\n",
       "                                 Index([&#x27;manufacturer&#x27;, &#x27;model&#x27;, &#x27;type&#x27;], dtype=&#x27;object&#x27;))])</pre><b>In a Jupyter environment, please rerun this cell to show the HTML representation or trust the notebook. <br />On GitHub, the HTML representation is unable to render, please try loading this page with nbviewer.org.</b></div><div class=\"sk-container\" hidden><div class=\"sk-item sk-dashed-wrapped\"><div class=\"sk-label-container\"><div class=\"sk-label sk-toggleable\"><input class=\"sk-toggleable__control sk-hidden--visually\" id=\"sk-estimator-id-13\" type=\"checkbox\" ><label for=\"sk-estimator-id-13\" class=\"sk-toggleable__label sk-toggleable__label-arrow\">ColumnTransformer</label><div class=\"sk-toggleable__content\"><pre>ColumnTransformer(transformers=[(&#x27;ordinal&#x27;, OneHotEncoder(sparse=False),\n",
       "                                 Index([&#x27;manufacturer&#x27;, &#x27;model&#x27;, &#x27;type&#x27;], dtype=&#x27;object&#x27;))])</pre></div></div></div><div class=\"sk-parallel\"><div class=\"sk-parallel-item\"><div class=\"sk-item\"><div class=\"sk-label-container\"><div class=\"sk-label sk-toggleable\"><input class=\"sk-toggleable__control sk-hidden--visually\" id=\"sk-estimator-id-14\" type=\"checkbox\" ><label for=\"sk-estimator-id-14\" class=\"sk-toggleable__label sk-toggleable__label-arrow\">ordinal</label><div class=\"sk-toggleable__content\"><pre>Index([&#x27;manufacturer&#x27;, &#x27;model&#x27;, &#x27;type&#x27;], dtype=&#x27;object&#x27;)</pre></div></div></div><div class=\"sk-serial\"><div class=\"sk-item\"><div class=\"sk-estimator sk-toggleable\"><input class=\"sk-toggleable__control sk-hidden--visually\" id=\"sk-estimator-id-15\" type=\"checkbox\" ><label for=\"sk-estimator-id-15\" class=\"sk-toggleable__label sk-toggleable__label-arrow\">OneHotEncoder</label><div class=\"sk-toggleable__content\"><pre>OneHotEncoder(sparse=False)</pre></div></div></div></div></div></div></div></div></div></div>"
      ],
      "text/plain": [
       "ColumnTransformer(transformers=[('ordinal', OneHotEncoder(sparse=False),\n",
       "                                 Index(['manufacturer', 'model', 'type'], dtype='object'))])"
      ]
     },
     "execution_count": 83,
     "metadata": {},
     "output_type": "execute_result"
    }
   ],
   "source": [
    "onehot_columns = data_v9_2.select_dtypes(exclude='number').columns\n",
    "ct_onhot= ColumnTransformer([(\"ordinal\", OneHotEncoder(sparse=False),onehot_columns)])\n",
    "ct_onhot.fit(data_v9_2)"
   ]
  },
  {
   "cell_type": "code",
   "execution_count": 84,
   "metadata": {},
   "outputs": [
    {
     "name": "stderr",
     "output_type": "stream",
     "text": [
      "c:\\Python310\\lib\\site-packages\\sklearn\\utils\\deprecation.py:87: FutureWarning: Function get_feature_names is deprecated; get_feature_names is deprecated in 1.0 and will be removed in 1.2. Please use get_feature_names_out instead.\n",
      "  warnings.warn(msg, category=FutureWarning)\n"
     ]
    }
   ],
   "source": [
    "data_v10_1 = pd.DataFrame(data = ct_onhot.transform(data_v9), columns= ct_onhot.get_feature_names())"
   ]
  },
  {
   "cell_type": "code",
   "execution_count": 112,
   "metadata": {},
   "outputs": [
    {
     "data": {
      "text/plain": [
       "(122035, 12258)"
      ]
     },
     "execution_count": 112,
     "metadata": {},
     "output_type": "execute_result"
    }
   ],
   "source": [
    "data_v10_1.shape"
   ]
  },
  {
   "cell_type": "code",
   "execution_count": 88,
   "metadata": {},
   "outputs": [
    {
     "data": {
      "text/html": [
       "<div>\n",
       "<style scoped>\n",
       "    .dataframe tbody tr th:only-of-type {\n",
       "        vertical-align: middle;\n",
       "    }\n",
       "\n",
       "    .dataframe tbody tr th {\n",
       "        vertical-align: top;\n",
       "    }\n",
       "\n",
       "    .dataframe thead th {\n",
       "        text-align: right;\n",
       "    }\n",
       "</style>\n",
       "<table border=\"1\" class=\"dataframe\">\n",
       "  <thead>\n",
       "    <tr style=\"text-align: right;\">\n",
       "      <th></th>\n",
       "      <th>ordinal__x0_acura</th>\n",
       "      <th>ordinal__x0_alfa-romeo</th>\n",
       "      <th>ordinal__x0_audi</th>\n",
       "      <th>ordinal__x0_bmw</th>\n",
       "      <th>ordinal__x0_buick</th>\n",
       "      <th>ordinal__x0_cadillac</th>\n",
       "      <th>ordinal__x0_chevrolet</th>\n",
       "      <th>ordinal__x0_chrysler</th>\n",
       "      <th>ordinal__x0_dodge</th>\n",
       "      <th>ordinal__x0_ford</th>\n",
       "      <th>...</th>\n",
       "      <th>cylinders</th>\n",
       "      <th>odometer</th>\n",
       "      <th>posting_date</th>\n",
       "      <th>condition</th>\n",
       "      <th>fuel</th>\n",
       "      <th>title_status</th>\n",
       "      <th>transmission</th>\n",
       "      <th>drive</th>\n",
       "      <th>size</th>\n",
       "      <th>paint_color</th>\n",
       "    </tr>\n",
       "  </thead>\n",
       "  <tbody>\n",
       "    <tr>\n",
       "      <th>0</th>\n",
       "      <td>0.0</td>\n",
       "      <td>0.0</td>\n",
       "      <td>0.0</td>\n",
       "      <td>0.0</td>\n",
       "      <td>0.0</td>\n",
       "      <td>0.0</td>\n",
       "      <td>1.0</td>\n",
       "      <td>0.0</td>\n",
       "      <td>0.0</td>\n",
       "      <td>0.0</td>\n",
       "      <td>...</td>\n",
       "      <td>8</td>\n",
       "      <td>71229.0</td>\n",
       "      <td>20210504</td>\n",
       "      <td>2.0</td>\n",
       "      <td>2.0</td>\n",
       "      <td>5.0</td>\n",
       "      <td>0.0</td>\n",
       "      <td>1.0</td>\n",
       "      <td>1.0</td>\n",
       "      <td>1.0</td>\n",
       "    </tr>\n",
       "    <tr>\n",
       "      <th>1</th>\n",
       "      <td>0.0</td>\n",
       "      <td>0.0</td>\n",
       "      <td>0.0</td>\n",
       "      <td>0.0</td>\n",
       "      <td>0.0</td>\n",
       "      <td>0.0</td>\n",
       "      <td>1.0</td>\n",
       "      <td>0.0</td>\n",
       "      <td>0.0</td>\n",
       "      <td>0.0</td>\n",
       "      <td>...</td>\n",
       "      <td>8</td>\n",
       "      <td>19160.0</td>\n",
       "      <td>20210504</td>\n",
       "      <td>2.0</td>\n",
       "      <td>2.0</td>\n",
       "      <td>5.0</td>\n",
       "      <td>0.0</td>\n",
       "      <td>1.0</td>\n",
       "      <td>1.0</td>\n",
       "      <td>2.0</td>\n",
       "    </tr>\n",
       "    <tr>\n",
       "      <th>2</th>\n",
       "      <td>0.0</td>\n",
       "      <td>0.0</td>\n",
       "      <td>0.0</td>\n",
       "      <td>0.0</td>\n",
       "      <td>0.0</td>\n",
       "      <td>0.0</td>\n",
       "      <td>0.0</td>\n",
       "      <td>0.0</td>\n",
       "      <td>0.0</td>\n",
       "      <td>0.0</td>\n",
       "      <td>...</td>\n",
       "      <td>8</td>\n",
       "      <td>41124.0</td>\n",
       "      <td>20210504</td>\n",
       "      <td>2.0</td>\n",
       "      <td>2.0</td>\n",
       "      <td>5.0</td>\n",
       "      <td>0.0</td>\n",
       "      <td>1.0</td>\n",
       "      <td>1.0</td>\n",
       "      <td>2.0</td>\n",
       "    </tr>\n",
       "    <tr>\n",
       "      <th>3</th>\n",
       "      <td>0.0</td>\n",
       "      <td>0.0</td>\n",
       "      <td>0.0</td>\n",
       "      <td>0.0</td>\n",
       "      <td>0.0</td>\n",
       "      <td>0.0</td>\n",
       "      <td>0.0</td>\n",
       "      <td>0.0</td>\n",
       "      <td>0.0</td>\n",
       "      <td>1.0</td>\n",
       "      <td>...</td>\n",
       "      <td>6</td>\n",
       "      <td>128000.0</td>\n",
       "      <td>20210503</td>\n",
       "      <td>3.0</td>\n",
       "      <td>2.0</td>\n",
       "      <td>5.0</td>\n",
       "      <td>2.0</td>\n",
       "      <td>1.0</td>\n",
       "      <td>1.0</td>\n",
       "      <td>3.0</td>\n",
       "    </tr>\n",
       "    <tr>\n",
       "      <th>4</th>\n",
       "      <td>0.0</td>\n",
       "      <td>0.0</td>\n",
       "      <td>0.0</td>\n",
       "      <td>0.0</td>\n",
       "      <td>0.0</td>\n",
       "      <td>0.0</td>\n",
       "      <td>0.0</td>\n",
       "      <td>0.0</td>\n",
       "      <td>0.0</td>\n",
       "      <td>0.0</td>\n",
       "      <td>...</td>\n",
       "      <td>8</td>\n",
       "      <td>68696.0</td>\n",
       "      <td>20210503</td>\n",
       "      <td>2.0</td>\n",
       "      <td>2.0</td>\n",
       "      <td>5.0</td>\n",
       "      <td>0.0</td>\n",
       "      <td>2.0</td>\n",
       "      <td>1.0</td>\n",
       "      <td>3.0</td>\n",
       "    </tr>\n",
       "    <tr>\n",
       "      <th>...</th>\n",
       "      <td>...</td>\n",
       "      <td>...</td>\n",
       "      <td>...</td>\n",
       "      <td>...</td>\n",
       "      <td>...</td>\n",
       "      <td>...</td>\n",
       "      <td>...</td>\n",
       "      <td>...</td>\n",
       "      <td>...</td>\n",
       "      <td>...</td>\n",
       "      <td>...</td>\n",
       "      <td>...</td>\n",
       "      <td>...</td>\n",
       "      <td>...</td>\n",
       "      <td>...</td>\n",
       "      <td>...</td>\n",
       "      <td>...</td>\n",
       "      <td>...</td>\n",
       "      <td>...</td>\n",
       "      <td>...</td>\n",
       "      <td>...</td>\n",
       "    </tr>\n",
       "    <tr>\n",
       "      <th>122030</th>\n",
       "      <td>0.0</td>\n",
       "      <td>1.0</td>\n",
       "      <td>0.0</td>\n",
       "      <td>0.0</td>\n",
       "      <td>0.0</td>\n",
       "      <td>0.0</td>\n",
       "      <td>0.0</td>\n",
       "      <td>0.0</td>\n",
       "      <td>0.0</td>\n",
       "      <td>0.0</td>\n",
       "      <td>...</td>\n",
       "      <td>8</td>\n",
       "      <td>2498.0</td>\n",
       "      <td>20210405</td>\n",
       "      <td>2.0</td>\n",
       "      <td>0.0</td>\n",
       "      <td>5.0</td>\n",
       "      <td>0.0</td>\n",
       "      <td>1.0</td>\n",
       "      <td>1.0</td>\n",
       "      <td>3.0</td>\n",
       "    </tr>\n",
       "    <tr>\n",
       "      <th>122031</th>\n",
       "      <td>0.0</td>\n",
       "      <td>0.0</td>\n",
       "      <td>0.0</td>\n",
       "      <td>0.0</td>\n",
       "      <td>0.0</td>\n",
       "      <td>0.0</td>\n",
       "      <td>0.0</td>\n",
       "      <td>0.0</td>\n",
       "      <td>0.0</td>\n",
       "      <td>0.0</td>\n",
       "      <td>...</td>\n",
       "      <td>8</td>\n",
       "      <td>55612.0</td>\n",
       "      <td>20210405</td>\n",
       "      <td>2.0</td>\n",
       "      <td>2.0</td>\n",
       "      <td>5.0</td>\n",
       "      <td>2.0</td>\n",
       "      <td>1.0</td>\n",
       "      <td>1.0</td>\n",
       "      <td>3.0</td>\n",
       "    </tr>\n",
       "    <tr>\n",
       "      <th>122032</th>\n",
       "      <td>0.0</td>\n",
       "      <td>0.0</td>\n",
       "      <td>0.0</td>\n",
       "      <td>0.0</td>\n",
       "      <td>0.0</td>\n",
       "      <td>0.0</td>\n",
       "      <td>0.0</td>\n",
       "      <td>0.0</td>\n",
       "      <td>0.0</td>\n",
       "      <td>0.0</td>\n",
       "      <td>...</td>\n",
       "      <td>8</td>\n",
       "      <td>3066.0</td>\n",
       "      <td>20210404</td>\n",
       "      <td>2.0</td>\n",
       "      <td>2.0</td>\n",
       "      <td>5.0</td>\n",
       "      <td>0.0</td>\n",
       "      <td>0.0</td>\n",
       "      <td>1.0</td>\n",
       "      <td>1.0</td>\n",
       "    </tr>\n",
       "    <tr>\n",
       "      <th>122033</th>\n",
       "      <td>0.0</td>\n",
       "      <td>0.0</td>\n",
       "      <td>0.0</td>\n",
       "      <td>0.0</td>\n",
       "      <td>0.0</td>\n",
       "      <td>0.0</td>\n",
       "      <td>0.0</td>\n",
       "      <td>0.0</td>\n",
       "      <td>0.0</td>\n",
       "      <td>0.0</td>\n",
       "      <td>...</td>\n",
       "      <td>8</td>\n",
       "      <td>12029.0</td>\n",
       "      <td>20210404</td>\n",
       "      <td>2.0</td>\n",
       "      <td>2.0</td>\n",
       "      <td>5.0</td>\n",
       "      <td>0.0</td>\n",
       "      <td>0.0</td>\n",
       "      <td>1.0</td>\n",
       "      <td>2.0</td>\n",
       "    </tr>\n",
       "    <tr>\n",
       "      <th>122034</th>\n",
       "      <td>0.0</td>\n",
       "      <td>0.0</td>\n",
       "      <td>0.0</td>\n",
       "      <td>0.0</td>\n",
       "      <td>0.0</td>\n",
       "      <td>0.0</td>\n",
       "      <td>0.0</td>\n",
       "      <td>0.0</td>\n",
       "      <td>0.0</td>\n",
       "      <td>0.0</td>\n",
       "      <td>...</td>\n",
       "      <td>6</td>\n",
       "      <td>30112.0</td>\n",
       "      <td>20210404</td>\n",
       "      <td>2.0</td>\n",
       "      <td>2.0</td>\n",
       "      <td>5.0</td>\n",
       "      <td>0.0</td>\n",
       "      <td>0.0</td>\n",
       "      <td>1.0</td>\n",
       "      <td>4.0</td>\n",
       "    </tr>\n",
       "  </tbody>\n",
       "</table>\n",
       "<p>122035 rows × 12270 columns</p>\n",
       "</div>"
      ],
      "text/plain": [
       "        ordinal__x0_acura  ordinal__x0_alfa-romeo  ordinal__x0_audi  \\\n",
       "0                     0.0                     0.0               0.0   \n",
       "1                     0.0                     0.0               0.0   \n",
       "2                     0.0                     0.0               0.0   \n",
       "3                     0.0                     0.0               0.0   \n",
       "4                     0.0                     0.0               0.0   \n",
       "...                   ...                     ...               ...   \n",
       "122030                0.0                     1.0               0.0   \n",
       "122031                0.0                     0.0               0.0   \n",
       "122032                0.0                     0.0               0.0   \n",
       "122033                0.0                     0.0               0.0   \n",
       "122034                0.0                     0.0               0.0   \n",
       "\n",
       "        ordinal__x0_bmw  ordinal__x0_buick  ordinal__x0_cadillac  \\\n",
       "0                   0.0                0.0                   0.0   \n",
       "1                   0.0                0.0                   0.0   \n",
       "2                   0.0                0.0                   0.0   \n",
       "3                   0.0                0.0                   0.0   \n",
       "4                   0.0                0.0                   0.0   \n",
       "...                 ...                ...                   ...   \n",
       "122030              0.0                0.0                   0.0   \n",
       "122031              0.0                0.0                   0.0   \n",
       "122032              0.0                0.0                   0.0   \n",
       "122033              0.0                0.0                   0.0   \n",
       "122034              0.0                0.0                   0.0   \n",
       "\n",
       "        ordinal__x0_chevrolet  ordinal__x0_chrysler  ordinal__x0_dodge  \\\n",
       "0                         1.0                   0.0                0.0   \n",
       "1                         1.0                   0.0                0.0   \n",
       "2                         0.0                   0.0                0.0   \n",
       "3                         0.0                   0.0                0.0   \n",
       "4                         0.0                   0.0                0.0   \n",
       "...                       ...                   ...                ...   \n",
       "122030                    0.0                   0.0                0.0   \n",
       "122031                    0.0                   0.0                0.0   \n",
       "122032                    0.0                   0.0                0.0   \n",
       "122033                    0.0                   0.0                0.0   \n",
       "122034                    0.0                   0.0                0.0   \n",
       "\n",
       "        ordinal__x0_ford  ...  cylinders  odometer  posting_date  condition  \\\n",
       "0                    0.0  ...          8   71229.0      20210504        2.0   \n",
       "1                    0.0  ...          8   19160.0      20210504        2.0   \n",
       "2                    0.0  ...          8   41124.0      20210504        2.0   \n",
       "3                    1.0  ...          6  128000.0      20210503        3.0   \n",
       "4                    0.0  ...          8   68696.0      20210503        2.0   \n",
       "...                  ...  ...        ...       ...           ...        ...   \n",
       "122030               0.0  ...          8    2498.0      20210405        2.0   \n",
       "122031               0.0  ...          8   55612.0      20210405        2.0   \n",
       "122032               0.0  ...          8    3066.0      20210404        2.0   \n",
       "122033               0.0  ...          8   12029.0      20210404        2.0   \n",
       "122034               0.0  ...          6   30112.0      20210404        2.0   \n",
       "\n",
       "        fuel  title_status  transmission  drive  size  paint_color  \n",
       "0        2.0           5.0           0.0    1.0   1.0          1.0  \n",
       "1        2.0           5.0           0.0    1.0   1.0          2.0  \n",
       "2        2.0           5.0           0.0    1.0   1.0          2.0  \n",
       "3        2.0           5.0           2.0    1.0   1.0          3.0  \n",
       "4        2.0           5.0           0.0    2.0   1.0          3.0  \n",
       "...      ...           ...           ...    ...   ...          ...  \n",
       "122030   0.0           5.0           0.0    1.0   1.0          3.0  \n",
       "122031   2.0           5.0           2.0    1.0   1.0          3.0  \n",
       "122032   2.0           5.0           0.0    0.0   1.0          1.0  \n",
       "122033   2.0           5.0           0.0    0.0   1.0          2.0  \n",
       "122034   2.0           5.0           0.0    0.0   1.0          4.0  \n",
       "\n",
       "[122035 rows x 12270 columns]"
      ]
     },
     "execution_count": 88,
     "metadata": {},
     "output_type": "execute_result"
    }
   ],
   "source": [
    "data_v10_2 = pd.concat([data_v10_1, data_v9_2.select_dtypes(include='number')], axis=1)\n",
    "data_v10_2"
   ]
  },
  {
   "cell_type": "code",
   "execution_count": 69,
   "metadata": {},
   "outputs": [],
   "source": [
    "data_v10 = pd.get_dummies(data_v9)"
   ]
  },
  {
   "cell_type": "code",
   "execution_count": 79,
   "metadata": {},
   "outputs": [
    {
     "data": {
      "text/html": [
       "<div>\n",
       "<style scoped>\n",
       "    .dataframe tbody tr th:only-of-type {\n",
       "        vertical-align: middle;\n",
       "    }\n",
       "\n",
       "    .dataframe tbody tr th {\n",
       "        vertical-align: top;\n",
       "    }\n",
       "\n",
       "    .dataframe thead th {\n",
       "        text-align: right;\n",
       "    }\n",
       "</style>\n",
       "<table border=\"1\" class=\"dataframe\">\n",
       "  <thead>\n",
       "    <tr style=\"text-align: right;\">\n",
       "      <th></th>\n",
       "      <th>price</th>\n",
       "      <th>year</th>\n",
       "      <th>cylinders</th>\n",
       "      <th>odometer</th>\n",
       "      <th>posting_date</th>\n",
       "      <th>condition</th>\n",
       "      <th>fuel</th>\n",
       "      <th>title_status</th>\n",
       "      <th>transmission</th>\n",
       "      <th>drive</th>\n",
       "      <th>...</th>\n",
       "      <th>type_coupe</th>\n",
       "      <th>type_hatchback</th>\n",
       "      <th>type_mini-van</th>\n",
       "      <th>type_offroad</th>\n",
       "      <th>type_other</th>\n",
       "      <th>type_pickup</th>\n",
       "      <th>type_sedan</th>\n",
       "      <th>type_truck</th>\n",
       "      <th>type_van</th>\n",
       "      <th>type_wagon</th>\n",
       "    </tr>\n",
       "  </thead>\n",
       "  <tbody>\n",
       "    <tr>\n",
       "      <th>1</th>\n",
       "      <td>22590</td>\n",
       "      <td>2010.0</td>\n",
       "      <td>8</td>\n",
       "      <td>71229.0</td>\n",
       "      <td>20210504</td>\n",
       "      <td>2.0</td>\n",
       "      <td>2.0</td>\n",
       "      <td>5.0</td>\n",
       "      <td>0.0</td>\n",
       "      <td>1.0</td>\n",
       "      <td>...</td>\n",
       "      <td>0</td>\n",
       "      <td>0</td>\n",
       "      <td>0</td>\n",
       "      <td>0</td>\n",
       "      <td>0</td>\n",
       "      <td>1</td>\n",
       "      <td>0</td>\n",
       "      <td>0</td>\n",
       "      <td>0</td>\n",
       "      <td>0</td>\n",
       "    </tr>\n",
       "    <tr>\n",
       "      <th>2</th>\n",
       "      <td>39590</td>\n",
       "      <td>2020.0</td>\n",
       "      <td>8</td>\n",
       "      <td>19160.0</td>\n",
       "      <td>20210504</td>\n",
       "      <td>2.0</td>\n",
       "      <td>2.0</td>\n",
       "      <td>5.0</td>\n",
       "      <td>0.0</td>\n",
       "      <td>1.0</td>\n",
       "      <td>...</td>\n",
       "      <td>0</td>\n",
       "      <td>0</td>\n",
       "      <td>0</td>\n",
       "      <td>0</td>\n",
       "      <td>0</td>\n",
       "      <td>1</td>\n",
       "      <td>0</td>\n",
       "      <td>0</td>\n",
       "      <td>0</td>\n",
       "      <td>0</td>\n",
       "    </tr>\n",
       "    <tr>\n",
       "      <th>3</th>\n",
       "      <td>30990</td>\n",
       "      <td>2017.0</td>\n",
       "      <td>8</td>\n",
       "      <td>41124.0</td>\n",
       "      <td>20210504</td>\n",
       "      <td>2.0</td>\n",
       "      <td>2.0</td>\n",
       "      <td>5.0</td>\n",
       "      <td>0.0</td>\n",
       "      <td>1.0</td>\n",
       "      <td>...</td>\n",
       "      <td>0</td>\n",
       "      <td>0</td>\n",
       "      <td>0</td>\n",
       "      <td>0</td>\n",
       "      <td>0</td>\n",
       "      <td>1</td>\n",
       "      <td>0</td>\n",
       "      <td>0</td>\n",
       "      <td>0</td>\n",
       "      <td>0</td>\n",
       "    </tr>\n",
       "    <tr>\n",
       "      <th>4</th>\n",
       "      <td>15000</td>\n",
       "      <td>2013.0</td>\n",
       "      <td>6</td>\n",
       "      <td>128000.0</td>\n",
       "      <td>20210503</td>\n",
       "      <td>3.0</td>\n",
       "      <td>2.0</td>\n",
       "      <td>5.0</td>\n",
       "      <td>2.0</td>\n",
       "      <td>1.0</td>\n",
       "      <td>...</td>\n",
       "      <td>0</td>\n",
       "      <td>0</td>\n",
       "      <td>0</td>\n",
       "      <td>0</td>\n",
       "      <td>0</td>\n",
       "      <td>0</td>\n",
       "      <td>0</td>\n",
       "      <td>1</td>\n",
       "      <td>0</td>\n",
       "      <td>0</td>\n",
       "    </tr>\n",
       "    <tr>\n",
       "      <th>5</th>\n",
       "      <td>27990</td>\n",
       "      <td>2012.0</td>\n",
       "      <td>8</td>\n",
       "      <td>68696.0</td>\n",
       "      <td>20210503</td>\n",
       "      <td>2.0</td>\n",
       "      <td>2.0</td>\n",
       "      <td>5.0</td>\n",
       "      <td>0.0</td>\n",
       "      <td>2.0</td>\n",
       "      <td>...</td>\n",
       "      <td>0</td>\n",
       "      <td>0</td>\n",
       "      <td>0</td>\n",
       "      <td>0</td>\n",
       "      <td>0</td>\n",
       "      <td>1</td>\n",
       "      <td>0</td>\n",
       "      <td>0</td>\n",
       "      <td>0</td>\n",
       "      <td>0</td>\n",
       "    </tr>\n",
       "    <tr>\n",
       "      <th>...</th>\n",
       "      <td>...</td>\n",
       "      <td>...</td>\n",
       "      <td>...</td>\n",
       "      <td>...</td>\n",
       "      <td>...</td>\n",
       "      <td>...</td>\n",
       "      <td>...</td>\n",
       "      <td>...</td>\n",
       "      <td>...</td>\n",
       "      <td>...</td>\n",
       "      <td>...</td>\n",
       "      <td>...</td>\n",
       "      <td>...</td>\n",
       "      <td>...</td>\n",
       "      <td>...</td>\n",
       "      <td>...</td>\n",
       "      <td>...</td>\n",
       "      <td>...</td>\n",
       "      <td>...</td>\n",
       "      <td>...</td>\n",
       "      <td>...</td>\n",
       "    </tr>\n",
       "    <tr>\n",
       "      <th>241704</th>\n",
       "      <td>34590</td>\n",
       "      <td>2020.0</td>\n",
       "      <td>8</td>\n",
       "      <td>2498.0</td>\n",
       "      <td>20210405</td>\n",
       "      <td>2.0</td>\n",
       "      <td>0.0</td>\n",
       "      <td>5.0</td>\n",
       "      <td>0.0</td>\n",
       "      <td>1.0</td>\n",
       "      <td>...</td>\n",
       "      <td>0</td>\n",
       "      <td>0</td>\n",
       "      <td>0</td>\n",
       "      <td>0</td>\n",
       "      <td>0</td>\n",
       "      <td>0</td>\n",
       "      <td>1</td>\n",
       "      <td>0</td>\n",
       "      <td>0</td>\n",
       "      <td>0</td>\n",
       "    </tr>\n",
       "    <tr>\n",
       "      <th>241705</th>\n",
       "      <td>32990</td>\n",
       "      <td>2016.0</td>\n",
       "      <td>8</td>\n",
       "      <td>55612.0</td>\n",
       "      <td>20210405</td>\n",
       "      <td>2.0</td>\n",
       "      <td>2.0</td>\n",
       "      <td>5.0</td>\n",
       "      <td>2.0</td>\n",
       "      <td>1.0</td>\n",
       "      <td>...</td>\n",
       "      <td>0</td>\n",
       "      <td>0</td>\n",
       "      <td>0</td>\n",
       "      <td>0</td>\n",
       "      <td>1</td>\n",
       "      <td>0</td>\n",
       "      <td>0</td>\n",
       "      <td>0</td>\n",
       "      <td>0</td>\n",
       "      <td>0</td>\n",
       "    </tr>\n",
       "    <tr>\n",
       "      <th>241709</th>\n",
       "      <td>22990</td>\n",
       "      <td>2020.0</td>\n",
       "      <td>8</td>\n",
       "      <td>3066.0</td>\n",
       "      <td>20210404</td>\n",
       "      <td>2.0</td>\n",
       "      <td>2.0</td>\n",
       "      <td>5.0</td>\n",
       "      <td>0.0</td>\n",
       "      <td>0.0</td>\n",
       "      <td>...</td>\n",
       "      <td>0</td>\n",
       "      <td>0</td>\n",
       "      <td>0</td>\n",
       "      <td>0</td>\n",
       "      <td>0</td>\n",
       "      <td>0</td>\n",
       "      <td>1</td>\n",
       "      <td>0</td>\n",
       "      <td>0</td>\n",
       "      <td>0</td>\n",
       "    </tr>\n",
       "    <tr>\n",
       "      <th>241715</th>\n",
       "      <td>30590</td>\n",
       "      <td>2020.0</td>\n",
       "      <td>8</td>\n",
       "      <td>12029.0</td>\n",
       "      <td>20210404</td>\n",
       "      <td>2.0</td>\n",
       "      <td>2.0</td>\n",
       "      <td>5.0</td>\n",
       "      <td>0.0</td>\n",
       "      <td>0.0</td>\n",
       "      <td>...</td>\n",
       "      <td>0</td>\n",
       "      <td>0</td>\n",
       "      <td>0</td>\n",
       "      <td>0</td>\n",
       "      <td>0</td>\n",
       "      <td>0</td>\n",
       "      <td>1</td>\n",
       "      <td>0</td>\n",
       "      <td>0</td>\n",
       "      <td>0</td>\n",
       "    </tr>\n",
       "    <tr>\n",
       "      <th>241717</th>\n",
       "      <td>28990</td>\n",
       "      <td>2018.0</td>\n",
       "      <td>6</td>\n",
       "      <td>30112.0</td>\n",
       "      <td>20210404</td>\n",
       "      <td>2.0</td>\n",
       "      <td>2.0</td>\n",
       "      <td>5.0</td>\n",
       "      <td>0.0</td>\n",
       "      <td>0.0</td>\n",
       "      <td>...</td>\n",
       "      <td>0</td>\n",
       "      <td>0</td>\n",
       "      <td>0</td>\n",
       "      <td>0</td>\n",
       "      <td>0</td>\n",
       "      <td>0</td>\n",
       "      <td>1</td>\n",
       "      <td>0</td>\n",
       "      <td>0</td>\n",
       "      <td>0</td>\n",
       "    </tr>\n",
       "  </tbody>\n",
       "</table>\n",
       "<p>122035 rows × 12270 columns</p>\n",
       "</div>"
      ],
      "text/plain": [
       "        price    year  cylinders  odometer  posting_date  condition  fuel  \\\n",
       "1       22590  2010.0          8   71229.0      20210504        2.0   2.0   \n",
       "2       39590  2020.0          8   19160.0      20210504        2.0   2.0   \n",
       "3       30990  2017.0          8   41124.0      20210504        2.0   2.0   \n",
       "4       15000  2013.0          6  128000.0      20210503        3.0   2.0   \n",
       "5       27990  2012.0          8   68696.0      20210503        2.0   2.0   \n",
       "...       ...     ...        ...       ...           ...        ...   ...   \n",
       "241704  34590  2020.0          8    2498.0      20210405        2.0   0.0   \n",
       "241705  32990  2016.0          8   55612.0      20210405        2.0   2.0   \n",
       "241709  22990  2020.0          8    3066.0      20210404        2.0   2.0   \n",
       "241715  30590  2020.0          8   12029.0      20210404        2.0   2.0   \n",
       "241717  28990  2018.0          6   30112.0      20210404        2.0   2.0   \n",
       "\n",
       "        title_status  transmission  drive  ...  type_coupe  type_hatchback  \\\n",
       "1                5.0           0.0    1.0  ...           0               0   \n",
       "2                5.0           0.0    1.0  ...           0               0   \n",
       "3                5.0           0.0    1.0  ...           0               0   \n",
       "4                5.0           2.0    1.0  ...           0               0   \n",
       "5                5.0           0.0    2.0  ...           0               0   \n",
       "...              ...           ...    ...  ...         ...             ...   \n",
       "241704           5.0           0.0    1.0  ...           0               0   \n",
       "241705           5.0           2.0    1.0  ...           0               0   \n",
       "241709           5.0           0.0    0.0  ...           0               0   \n",
       "241715           5.0           0.0    0.0  ...           0               0   \n",
       "241717           5.0           0.0    0.0  ...           0               0   \n",
       "\n",
       "        type_mini-van  type_offroad  type_other  type_pickup  type_sedan  \\\n",
       "1                   0             0           0            1           0   \n",
       "2                   0             0           0            1           0   \n",
       "3                   0             0           0            1           0   \n",
       "4                   0             0           0            0           0   \n",
       "5                   0             0           0            1           0   \n",
       "...               ...           ...         ...          ...         ...   \n",
       "241704              0             0           0            0           1   \n",
       "241705              0             0           1            0           0   \n",
       "241709              0             0           0            0           1   \n",
       "241715              0             0           0            0           1   \n",
       "241717              0             0           0            0           1   \n",
       "\n",
       "        type_truck  type_van  type_wagon  \n",
       "1                0         0           0  \n",
       "2                0         0           0  \n",
       "3                0         0           0  \n",
       "4                1         0           0  \n",
       "5                0         0           0  \n",
       "...            ...       ...         ...  \n",
       "241704           0         0           0  \n",
       "241705           0         0           0  \n",
       "241709           0         0           0  \n",
       "241715           0         0           0  \n",
       "241717           0         0           0  \n",
       "\n",
       "[122035 rows x 12270 columns]"
      ]
     },
     "execution_count": 79,
     "metadata": {},
     "output_type": "execute_result"
    }
   ],
   "source": [
    "data_v10"
   ]
  },
  {
   "cell_type": "code",
   "execution_count": 61,
   "metadata": {},
   "outputs": [
    {
     "data": {
      "image/png": "[encoded data removed]",
      "text/plain": [
       "<Figure size 2000x700 with 2 Axes>"
      ]
     },
     "metadata": {},
     "output_type": "display_data"
    }
   ],
   "source": [
    "#calculate correlation matris with onehot encoder\n",
    "corr_matrix_v3 =data_v9.corr()\n",
    "\n",
    "fig, ax = plt.subplots(figsize=(20,7))\n",
    "sns.heatmap(corr_matrix_v3, cmap='coolwarm', annot=True, annot_kws={'size':10}, )\n",
    "plt.show()"
   ]
  },
  {
   "cell_type": "code",
   "execution_count": 102,
   "metadata": {},
   "outputs": [],
   "source": [
    "def convert_data(input, ct_hot, ct_ord):\n",
    "    # ord_columns = input.select_dtypes(include=\"number\").columns\n",
    "    # hot_columns = input.select_dtypes(exclude=\"number\").columns\n",
    "    ord_columns= ['condition', 'fuel', 'title_status', 'transmission', 'drive', 'size', 'paint_color']\n",
    "    ord_values = ct_ord.transform(input)\n",
    "    ord_df = pd.DataFrame(ord_values, columns= ord_columns)\n",
    "    hot_values = ct_hot.transform(input)\n",
    "    hot_df = pd.DataFrame(data = hot_values, columns= ct_hot.get_feature_names())\n",
    "    output = pd.concat([hot_df, ord_df], axis=1)\n",
    "    return output"
   ]
  },
  {
   "cell_type": "code",
   "execution_count": 111,
   "metadata": {},
   "outputs": [
    {
     "name": "stderr",
     "output_type": "stream",
     "text": [
      "c:\\Python310\\lib\\site-packages\\sklearn\\utils\\deprecation.py:87: FutureWarning: Function get_feature_names is deprecated; get_feature_names is deprecated in 1.0 and will be removed in 1.2. Please use get_feature_names_out instead.\n",
      "  warnings.warn(msg, category=FutureWarning)\n"
     ]
    },
    {
     "data": {
      "text/plain": [
       "(1, 12265)"
      ]
     },
     "execution_count": 111,
     "metadata": {},
     "output_type": "execute_result"
    }
   ],
   "source": [
    "convert_data(data_v6.sample(1), ct_onhot, ct_ordinal).shape"
   ]
  },
  {
   "cell_type": "markdown",
   "metadata": {},
   "source": [
    "# Dummy model"
   ]
  },
  {
   "cell_type": "code",
   "execution_count": 122,
   "metadata": {},
   "outputs": [],
   "source": [
    "X = data_v10.drop(columns=['price'])\n",
    "y = data_v10['price']\n",
    "\n",
    "X_train, X_test, y_train, y_test = train_test_split(X, y, test_size=0.1, random_state=14564)"
   ]
  },
  {
   "cell_type": "code",
   "execution_count": 123,
   "metadata": {},
   "outputs": [],
   "source": [
    "dummy_model = LinearRegression()"
   ]
  },
  {
   "cell_type": "code",
   "execution_count": 124,
   "metadata": {},
   "outputs": [
    {
     "data": {
      "text/html": [
       "<style>#sk-container-id-3 {color: black;background-color: white;}#sk-container-id-3 pre{padding: 0;}#sk-container-id-3 div.sk-toggleable {background-color: white;}#sk-container-id-3 label.sk-toggleable__label {cursor: pointer;display: block;width: 100%;margin-bottom: 0;padding: 0.3em;box-sizing: border-box;text-align: center;}#sk-container-id-3 label.sk-toggleable__label-arrow:before {content: \"▸\";float: left;margin-right: 0.25em;color: #696969;}#sk-container-id-3 label.sk-toggleable__label-arrow:hover:before {color: black;}#sk-container-id-3 div.sk-estimator:hover label.sk-toggleable__label-arrow:before {color: black;}#sk-container-id-3 div.sk-toggleable__content {max-height: 0;max-width: 0;overflow: hidden;text-align: left;background-color: #f0f8ff;}#sk-container-id-3 div.sk-toggleable__content pre {margin: 0.2em;color: black;border-radius: 0.25em;background-color: #f0f8ff;}#sk-container-id-3 input.sk-toggleable__control:checked~div.sk-toggleable__content {max-height: 200px;max-width: 100%;overflow: auto;}#sk-container-id-3 input.sk-toggleable__control:checked~label.sk-toggleable__label-arrow:before {content: \"▾\";}#sk-container-id-3 div.sk-estimator input.sk-toggleable__control:checked~label.sk-toggleable__label {background-color: #d4ebff;}#sk-container-id-3 div.sk-label input.sk-toggleable__control:checked~label.sk-toggleable__label {background-color: #d4ebff;}#sk-container-id-3 input.sk-hidden--visually {border: 0;clip: rect(1px 1px 1px 1px);clip: rect(1px, 1px, 1px, 1px);height: 1px;margin: -1px;overflow: hidden;padding: 0;position: absolute;width: 1px;}#sk-container-id-3 div.sk-estimator {font-family: monospace;background-color: #f0f8ff;border: 1px dotted black;border-radius: 0.25em;box-sizing: border-box;margin-bottom: 0.5em;}#sk-container-id-3 div.sk-estimator:hover {background-color: #d4ebff;}#sk-container-id-3 div.sk-parallel-item::after {content: \"\";width: 100%;border-bottom: 1px solid gray;flex-grow: 1;}#sk-container-id-3 div.sk-label:hover label.sk-toggleable__label {background-color: #d4ebff;}#sk-container-id-3 div.sk-serial::before {content: \"\";position: absolute;border-left: 1px solid gray;box-sizing: border-box;top: 0;bottom: 0;left: 50%;z-index: 0;}#sk-container-id-3 div.sk-serial {display: flex;flex-direction: column;align-items: center;background-color: white;padding-right: 0.2em;padding-left: 0.2em;position: relative;}#sk-container-id-3 div.sk-item {position: relative;z-index: 1;}#sk-container-id-3 div.sk-parallel {display: flex;align-items: stretch;justify-content: center;background-color: white;position: relative;}#sk-container-id-3 div.sk-item::before, #sk-container-id-3 div.sk-parallel-item::before {content: \"\";position: absolute;border-left: 1px solid gray;box-sizing: border-box;top: 0;bottom: 0;left: 50%;z-index: -1;}#sk-container-id-3 div.sk-parallel-item {display: flex;flex-direction: column;z-index: 1;position: relative;background-color: white;}#sk-container-id-3 div.sk-parallel-item:first-child::after {align-self: flex-end;width: 50%;}#sk-container-id-3 div.sk-parallel-item:last-child::after {align-self: flex-start;width: 50%;}#sk-container-id-3 div.sk-parallel-item:only-child::after {width: 0;}#sk-container-id-3 div.sk-dashed-wrapped {border: 1px dashed gray;margin: 0 0.4em 0.5em 0.4em;box-sizing: border-box;padding-bottom: 0.4em;background-color: white;}#sk-container-id-3 div.sk-label label {font-family: monospace;font-weight: bold;display: inline-block;line-height: 1.2em;}#sk-container-id-3 div.sk-label-container {text-align: center;}#sk-container-id-3 div.sk-container {/* jupyter's `normalize.less` sets `[hidden] { display: none; }` but bootstrap.min.css set `[hidden] { display: none !important; }` so we also need the `!important` here to be able to override the default hidden behavior on the sphinx rendered scikit-learn.org. See: https://github.com/scikit-learn/scikit-learn/issues/21755 */display: inline-block !important;position: relative;}#sk-container-id-3 div.sk-text-repr-fallback {display: none;}</style><div id=\"sk-container-id-3\" class=\"sk-top-container\"><div class=\"sk-text-repr-fallback\"><pre>LinearRegression()</pre><b>In a Jupyter environment, please rerun this cell to show the HTML representation or trust the notebook. <br />On GitHub, the HTML representation is unable to render, please try loading this page with nbviewer.org.</b></div><div class=\"sk-container\" hidden><div class=\"sk-item\"><div class=\"sk-estimator sk-toggleable\"><input class=\"sk-toggleable__control sk-hidden--visually\" id=\"sk-estimator-id-7\" type=\"checkbox\" checked><label for=\"sk-estimator-id-7\" class=\"sk-toggleable__label sk-toggleable__label-arrow\">LinearRegression</label><div class=\"sk-toggleable__content\"><pre>LinearRegression()</pre></div></div></div></div></div>"
      ],
      "text/plain": [
       "LinearRegression()"
      ]
     },
     "execution_count": 124,
     "metadata": {},
     "output_type": "execute_result"
    }
   ],
   "source": [
    "dummy_model.fit(X_train, y_train)"
   ]
  },
  {
   "cell_type": "code",
   "execution_count": 125,
   "metadata": {},
   "outputs": [],
   "source": [
    "dummy_predict = dummy_model.predict(X_test)"
   ]
  },
  {
   "cell_type": "code",
   "execution_count": 126,
   "metadata": {},
   "outputs": [
    {
     "data": {
      "text/plain": [
       "0.6320645138775987"
      ]
     },
     "execution_count": 126,
     "metadata": {},
     "output_type": "execute_result"
    }
   ],
   "source": [
    "r2_score(dummy_predict,y_test)"
   ]
  },
  {
   "cell_type": "code",
   "execution_count": 127,
   "metadata": {},
   "outputs": [
    {
     "data": {
      "text/plain": [
       "<matplotlib.collections.PathCollection at 0x2e82117f400>"
      ]
     },
     "execution_count": 127,
     "metadata": {},
     "output_type": "execute_result"
    },
    {
     "data": {
      "image/png": "[encoded data removed]",
      "text/plain": [
       "<Figure size 640x480 with 1 Axes>"
      ]
     },
     "metadata": {},
     "output_type": "display_data"
    }
   ],
   "source": [
    "plt.scatter(dummy_predict, y_test)"
   ]
  },
  {
   "cell_type": "code",
   "execution_count": 128,
   "metadata": {},
   "outputs": [],
   "source": [
    "dummy_errors = y_test - dummy_predict"
   ]
  },
  {
   "cell_type": "code",
   "execution_count": 129,
   "metadata": {},
   "outputs": [
    {
     "data": {
      "text/plain": [
       "(array([1.000e+00, 0.000e+00, 0.000e+00, 0.000e+00, 0.000e+00, 2.000e+00,\n",
       "        0.000e+00, 3.000e+00, 2.000e+00, 2.000e+00, 4.000e+00, 2.000e+00,\n",
       "        0.000e+00, 3.000e+00, 4.000e+00, 6.000e+00, 6.000e+00, 8.000e+00,\n",
       "        1.500e+01, 6.000e+00, 2.100e+01, 2.300e+01, 1.900e+01, 4.000e+01,\n",
       "        4.500e+01, 5.900e+01, 9.200e+01, 1.150e+02, 1.330e+02, 2.160e+02,\n",
       "        3.180e+02, 5.080e+02, 8.080e+02, 1.260e+03, 1.859e+03, 2.917e+03,\n",
       "        1.363e+03, 7.250e+02, 4.110e+02, 2.850e+02, 1.430e+02, 1.420e+02,\n",
       "        8.900e+01, 8.400e+01, 5.700e+01, 5.600e+01, 4.600e+01, 4.400e+01,\n",
       "        3.800e+01, 2.200e+01, 2.200e+01, 1.300e+01, 1.400e+01, 1.300e+01,\n",
       "        1.300e+01, 1.500e+01, 4.000e+00, 1.100e+01, 5.000e+00, 8.000e+00,\n",
       "        7.000e+00, 1.000e+01, 3.000e+00, 5.000e+00, 4.000e+00, 3.000e+00,\n",
       "        4.000e+00, 3.000e+00, 4.000e+00, 6.000e+00, 2.000e+00, 3.000e+00,\n",
       "        3.000e+00, 1.000e+00, 4.000e+00, 1.000e+00, 1.000e+00, 2.000e+00,\n",
       "        0.000e+00, 2.000e+00, 3.000e+00, 2.000e+00, 1.000e+00, 1.000e+00,\n",
       "        0.000e+00, 1.000e+00, 3.000e+00, 1.000e+00, 0.000e+00, 0.000e+00,\n",
       "        0.000e+00, 1.000e+00, 0.000e+00, 0.000e+00, 0.000e+00, 1.000e+00,\n",
       "        0.000e+00, 0.000e+00, 1.000e+00, 1.000e+00]),\n",
       " array([-48180.2084721 , -46812.37560769, -45444.54274328, -44076.70987887,\n",
       "        -42708.87701445, -41341.04415004, -39973.21128563, -38605.37842122,\n",
       "        -37237.54555681, -35869.7126924 , -34501.87982799, -33134.04696358,\n",
       "        -31766.21409916, -30398.38123475, -29030.54837034, -27662.71550593,\n",
       "        -26294.88264152, -24927.04977711, -23559.2169127 , -22191.38404829,\n",
       "        -20823.55118387, -19455.71831946, -18087.88545505, -16720.05259064,\n",
       "        -15352.21972623, -13984.38686182, -12616.55399741, -11248.721133  ,\n",
       "         -9880.88826859,  -8513.05540417,  -7145.22253976,  -5777.38967535,\n",
       "         -4409.55681094,  -3041.72394653,  -1673.89108212,   -306.05821771,\n",
       "          1061.7746467 ,   2429.60751112,   3797.44037553,   5165.27323994,\n",
       "          6533.10610435,   7900.93896876,   9268.77183317,  10636.60469758,\n",
       "         12004.43756199,  13372.27042641,  14740.10329082,  16107.93615523,\n",
       "         17475.76901964,  18843.60188405,  20211.43474846,  21579.26761287,\n",
       "         22947.10047728,  24314.9333417 ,  25682.76620611,  27050.59907052,\n",
       "         28418.43193493,  29786.26479934,  31154.09766375,  32521.93052816,\n",
       "         33889.76339257,  35257.59625698,  36625.4291214 ,  37993.26198581,\n",
       "         39361.09485022,  40728.92771463,  42096.76057904,  43464.59344345,\n",
       "         44832.42630786,  46200.25917227,  47568.09203669,  48935.9249011 ,\n",
       "         50303.75776551,  51671.59062992,  53039.42349433,  54407.25635874,\n",
       "         55775.08922315,  57142.92208756,  58510.75495198,  59878.58781639,\n",
       "         61246.4206808 ,  62614.25354521,  63982.08640962,  65349.91927403,\n",
       "         66717.75213844,  68085.58500285,  69453.41786727,  70821.25073168,\n",
       "         72189.08359609,  73556.9164605 ,  74924.74932491,  76292.58218932,\n",
       "         77660.41505373,  79028.24791814,  80396.08078255,  81763.91364697,\n",
       "         83131.74651138,  84499.57937579,  85867.4122402 ,  87235.24510461,\n",
       "         88603.07796902]),\n",
       " <BarContainer object of 100 artists>)"
      ]
     },
     "execution_count": 129,
     "metadata": {},
     "output_type": "execute_result"
    },
    {
     "data": {
      "image/png": "[encoded data removed]",
      "text/plain": [
       "<Figure size 640x480 with 1 Axes>"
      ]
     },
     "metadata": {},
     "output_type": "display_data"
    }
   ],
   "source": [
    "plt.hist(dummy_errors, bins= 100)"
   ]
  },
  {
   "cell_type": "code",
   "execution_count": 130,
   "metadata": {},
   "outputs": [],
   "source": [
    "rnd_model = RandomForestRegressor()"
   ]
  },
  {
   "cell_type": "code",
   "execution_count": 131,
   "metadata": {},
   "outputs": [
    {
     "data": {
      "text/html": [
       "<style>#sk-container-id-4 {color: black;background-color: white;}#sk-container-id-4 pre{padding: 0;}#sk-container-id-4 div.sk-toggleable {background-color: white;}#sk-container-id-4 label.sk-toggleable__label {cursor: pointer;display: block;width: 100%;margin-bottom: 0;padding: 0.3em;box-sizing: border-box;text-align: center;}#sk-container-id-4 label.sk-toggleable__label-arrow:before {content: \"▸\";float: left;margin-right: 0.25em;color: #696969;}#sk-container-id-4 label.sk-toggleable__label-arrow:hover:before {color: black;}#sk-container-id-4 div.sk-estimator:hover label.sk-toggleable__label-arrow:before {color: black;}#sk-container-id-4 div.sk-toggleable__content {max-height: 0;max-width: 0;overflow: hidden;text-align: left;background-color: #f0f8ff;}#sk-container-id-4 div.sk-toggleable__content pre {margin: 0.2em;color: black;border-radius: 0.25em;background-color: #f0f8ff;}#sk-container-id-4 input.sk-toggleable__control:checked~div.sk-toggleable__content {max-height: 200px;max-width: 100%;overflow: auto;}#sk-container-id-4 input.sk-toggleable__control:checked~label.sk-toggleable__label-arrow:before {content: \"▾\";}#sk-container-id-4 div.sk-estimator input.sk-toggleable__control:checked~label.sk-toggleable__label {background-color: #d4ebff;}#sk-container-id-4 div.sk-label input.sk-toggleable__control:checked~label.sk-toggleable__label {background-color: #d4ebff;}#sk-container-id-4 input.sk-hidden--visually {border: 0;clip: rect(1px 1px 1px 1px);clip: rect(1px, 1px, 1px, 1px);height: 1px;margin: -1px;overflow: hidden;padding: 0;position: absolute;width: 1px;}#sk-container-id-4 div.sk-estimator {font-family: monospace;background-color: #f0f8ff;border: 1px dotted black;border-radius: 0.25em;box-sizing: border-box;margin-bottom: 0.5em;}#sk-container-id-4 div.sk-estimator:hover {background-color: #d4ebff;}#sk-container-id-4 div.sk-parallel-item::after {content: \"\";width: 100%;border-bottom: 1px solid gray;flex-grow: 1;}#sk-container-id-4 div.sk-label:hover label.sk-toggleable__label {background-color: #d4ebff;}#sk-container-id-4 div.sk-serial::before {content: \"\";position: absolute;border-left: 1px solid gray;box-sizing: border-box;top: 0;bottom: 0;left: 50%;z-index: 0;}#sk-container-id-4 div.sk-serial {display: flex;flex-direction: column;align-items: center;background-color: white;padding-right: 0.2em;padding-left: 0.2em;position: relative;}#sk-container-id-4 div.sk-item {position: relative;z-index: 1;}#sk-container-id-4 div.sk-parallel {display: flex;align-items: stretch;justify-content: center;background-color: white;position: relative;}#sk-container-id-4 div.sk-item::before, #sk-container-id-4 div.sk-parallel-item::before {content: \"\";position: absolute;border-left: 1px solid gray;box-sizing: border-box;top: 0;bottom: 0;left: 50%;z-index: -1;}#sk-container-id-4 div.sk-parallel-item {display: flex;flex-direction: column;z-index: 1;position: relative;background-color: white;}#sk-container-id-4 div.sk-parallel-item:first-child::after {align-self: flex-end;width: 50%;}#sk-container-id-4 div.sk-parallel-item:last-child::after {align-self: flex-start;width: 50%;}#sk-container-id-4 div.sk-parallel-item:only-child::after {width: 0;}#sk-container-id-4 div.sk-dashed-wrapped {border: 1px dashed gray;margin: 0 0.4em 0.5em 0.4em;box-sizing: border-box;padding-bottom: 0.4em;background-color: white;}#sk-container-id-4 div.sk-label label {font-family: monospace;font-weight: bold;display: inline-block;line-height: 1.2em;}#sk-container-id-4 div.sk-label-container {text-align: center;}#sk-container-id-4 div.sk-container {/* jupyter's `normalize.less` sets `[hidden] { display: none; }` but bootstrap.min.css set `[hidden] { display: none !important; }` so we also need the `!important` here to be able to override the default hidden behavior on the sphinx rendered scikit-learn.org. See: https://github.com/scikit-learn/scikit-learn/issues/21755 */display: inline-block !important;position: relative;}#sk-container-id-4 div.sk-text-repr-fallback {display: none;}</style><div id=\"sk-container-id-4\" class=\"sk-top-container\"><div class=\"sk-text-repr-fallback\"><pre>RandomForestRegressor()</pre><b>In a Jupyter environment, please rerun this cell to show the HTML representation or trust the notebook. <br />On GitHub, the HTML representation is unable to render, please try loading this page with nbviewer.org.</b></div><div class=\"sk-container\" hidden><div class=\"sk-item\"><div class=\"sk-estimator sk-toggleable\"><input class=\"sk-toggleable__control sk-hidden--visually\" id=\"sk-estimator-id-8\" type=\"checkbox\" checked><label for=\"sk-estimator-id-8\" class=\"sk-toggleable__label sk-toggleable__label-arrow\">RandomForestRegressor</label><div class=\"sk-toggleable__content\"><pre>RandomForestRegressor()</pre></div></div></div></div></div>"
      ],
      "text/plain": [
       "RandomForestRegressor()"
      ]
     },
     "execution_count": 131,
     "metadata": {},
     "output_type": "execute_result"
    }
   ],
   "source": [
    "rnd_model.fit(X_train, y_train)"
   ]
  },
  {
   "cell_type": "code",
   "execution_count": 132,
   "metadata": {},
   "outputs": [],
   "source": [
    "rnd_predict = rnd_model.predict(X_test)"
   ]
  },
  {
   "cell_type": "code",
   "execution_count": 133,
   "metadata": {},
   "outputs": [
    {
     "data": {
      "text/plain": [
       "0.8946298422768116"
      ]
     },
     "execution_count": 133,
     "metadata": {},
     "output_type": "execute_result"
    }
   ],
   "source": [
    "r2_score(rnd_predict,y_test)"
   ]
  },
  {
   "cell_type": "code",
   "execution_count": 134,
   "metadata": {},
   "outputs": [
    {
     "data": {
      "text/plain": [
       "<matplotlib.collections.PathCollection at 0x2e81897cf70>"
      ]
     },
     "execution_count": 134,
     "metadata": {},
     "output_type": "execute_result"
    },
    {
     "data": {
      "image/png": "[encoded data removed]",
      "text/plain": [
       "<Figure size 640x480 with 1 Axes>"
      ]
     },
     "metadata": {},
     "output_type": "display_data"
    }
   ],
   "source": [
    "plt.scatter(rnd_predict, y_test)"
   ]
  },
  {
   "cell_type": "code",
   "execution_count": 135,
   "metadata": {},
   "outputs": [],
   "source": [
    "errors = y_test - rnd_predict"
   ]
  },
  {
   "cell_type": "code",
   "execution_count": null,
   "metadata": {},
   "outputs": [
    {
     "data": {
      "text/plain": [
       "(array([1.000e+00, 0.000e+00, 0.000e+00, 0.000e+00, 0.000e+00, 0.000e+00,\n",
       "        0.000e+00, 0.000e+00, 0.000e+00, 1.000e+00, 0.000e+00, 1.000e+00,\n",
       "        2.000e+00, 0.000e+00, 4.000e+00, 3.000e+00, 2.000e+00, 3.000e+00,\n",
       "        6.000e+00, 6.000e+00, 7.000e+00, 1.700e+01, 1.700e+01, 2.500e+01,\n",
       "        5.000e+01, 7.400e+01, 9.100e+01, 1.560e+02, 2.460e+02, 5.280e+02,\n",
       "        1.133e+03, 6.266e+03, 1.752e+03, 6.980e+02, 3.800e+02, 2.140e+02,\n",
       "        1.410e+02, 7.900e+01, 5.300e+01, 5.300e+01, 3.800e+01, 2.500e+01,\n",
       "        1.900e+01, 1.800e+01, 1.800e+01, 1.000e+01, 8.000e+00, 7.000e+00,\n",
       "        6.000e+00, 3.000e+00, 7.000e+00, 8.000e+00, 2.000e+00, 1.000e+00,\n",
       "        1.000e+00, 0.000e+00, 2.000e+00, 1.000e+00, 2.000e+00, 0.000e+00,\n",
       "        2.000e+00, 1.000e+00, 1.000e+00, 3.000e+00, 3.000e+00, 0.000e+00,\n",
       "        1.000e+00, 1.000e+00, 0.000e+00, 0.000e+00, 0.000e+00, 1.000e+00,\n",
       "        1.000e+00, 0.000e+00, 0.000e+00, 3.000e+00, 1.000e+00, 0.000e+00,\n",
       "        0.000e+00, 0.000e+00, 0.000e+00, 0.000e+00, 0.000e+00, 0.000e+00,\n",
       "        0.000e+00, 0.000e+00, 0.000e+00, 0.000e+00, 0.000e+00, 0.000e+00,\n",
       "        0.000e+00, 0.000e+00, 0.000e+00, 0.000e+00, 0.000e+00, 0.000e+00,\n",
       "        0.000e+00, 0.000e+00, 0.000e+00, 1.000e+00]),\n",
       " array([-41272.2   , -39974.6458, -38677.0916, -37379.5374, -36081.9832,\n",
       "        -34784.429 , -33486.8748, -32189.3206, -30891.7664, -29594.2122,\n",
       "        -28296.658 , -26999.1038, -25701.5496, -24403.9954, -23106.4412,\n",
       "        -21808.887 , -20511.3328, -19213.7786, -17916.2244, -16618.6702,\n",
       "        -15321.116 , -14023.5618, -12726.0076, -11428.4534, -10130.8992,\n",
       "         -8833.345 ,  -7535.7908,  -6238.2366,  -4940.6824,  -3643.1282,\n",
       "         -2345.574 ,  -1048.0198,    249.5344,   1547.0886,   2844.6428,\n",
       "          4142.197 ,   5439.7512,   6737.3054,   8034.8596,   9332.4138,\n",
       "         10629.968 ,  11927.5222,  13225.0764,  14522.6306,  15820.1848,\n",
       "         17117.739 ,  18415.2932,  19712.8474,  21010.4016,  22307.9558,\n",
       "         23605.51  ,  24903.0642,  26200.6184,  27498.1726,  28795.7268,\n",
       "         30093.281 ,  31390.8352,  32688.3894,  33985.9436,  35283.4978,\n",
       "         36581.052 ,  37878.6062,  39176.1604,  40473.7146,  41771.2688,\n",
       "         43068.823 ,  44366.3772,  45663.9314,  46961.4856,  48259.0398,\n",
       "         49556.594 ,  50854.1482,  52151.7024,  53449.2566,  54746.8108,\n",
       "         56044.365 ,  57341.9192,  58639.4734,  59937.0276,  61234.5818,\n",
       "         62532.136 ,  63829.6902,  65127.2444,  66424.7986,  67722.3528,\n",
       "         69019.907 ,  70317.4612,  71615.0154,  72912.5696,  74210.1238,\n",
       "         75507.678 ,  76805.2322,  78102.7864,  79400.3406,  80697.8948,\n",
       "         81995.449 ,  83293.0032,  84590.5574,  85888.1116,  87185.6658,\n",
       "         88483.22  ]),\n",
       " <BarContainer object of 100 artists>)"
      ]
     },
     "execution_count": 129,
     "metadata": {},
     "output_type": "execute_result"
    },
    {
     "data": {
      "image/png": "[encoded data removed]",
      "text/plain": [
       "<Figure size 640x480 with 1 Axes>"
      ]
     },
     "metadata": {},
     "output_type": "display_data"
    }
   ],
   "source": [
    "plt.hist(errors, bins= 100)"
   ]
  },
  {
   "cell_type": "markdown",
   "metadata": {},
   "source": [
    "saving the models"
   ]
  },
  {
   "cell_type": "code",
   "execution_count": 62,
   "metadata": {},
   "outputs": [
    {
     "ename": "NameError",
     "evalue": "name 'dummy_model' is not defined",
     "output_type": "error",
     "traceback": [
      "\u001b[1;31m---------------------------------------------------------------------------\u001b[0m",
      "\u001b[1;31mNameError\u001b[0m                                 Traceback (most recent call last)",
      "\u001b[1;32mc:\\Users\\sherw\\Desktop\\Weiterbildung\\Projects\\car_price_prediction\\data_exploring.ipynb Cell 97\u001b[0m in \u001b[0;36m<cell line: 4>\u001b[1;34m()\u001b[0m\n\u001b[0;32m      <a href='vscode-notebook-cell:/c%3A/Users/sherw/Desktop/Weiterbildung/Projects/car_price_prediction/data_exploring.ipynb#Y165sZmlsZQ%3D%3D?line=0'>1</a>\u001b[0m \u001b[39mimport\u001b[39;00m \u001b[39mpickle\u001b[39;00m\n\u001b[0;32m      <a href='vscode-notebook-cell:/c%3A/Users/sherw/Desktop/Weiterbildung/Projects/car_price_prediction/data_exploring.ipynb#Y165sZmlsZQ%3D%3D?line=1'>2</a>\u001b[0m \u001b[39mfrom\u001b[39;00m \u001b[39mjoblib\u001b[39;00m \u001b[39mimport\u001b[39;00m dump, load\n\u001b[1;32m----> <a href='vscode-notebook-cell:/c%3A/Users/sherw/Desktop/Weiterbildung/Projects/car_price_prediction/data_exploring.ipynb#Y165sZmlsZQ%3D%3D?line=3'>4</a>\u001b[0m dump(dummy_model, \u001b[39m'\u001b[39m\u001b[39mdumm_model.joblib\u001b[39m\u001b[39m'\u001b[39m) \n\u001b[0;32m      <a href='vscode-notebook-cell:/c%3A/Users/sherw/Desktop/Weiterbildung/Projects/car_price_prediction/data_exploring.ipynb#Y165sZmlsZQ%3D%3D?line=4'>5</a>\u001b[0m dump(rnd_model, \u001b[39m'\u001b[39m\u001b[39mrf_model.joblib\u001b[39m\u001b[39m'\u001b[39m)\n",
      "\u001b[1;31mNameError\u001b[0m: name 'dummy_model' is not defined"
     ]
    }
   ],
   "source": [
    "import pickle\n",
    "from joblib import dump, load\n",
    "\n",
    "dump(dummy_model, 'dumm_model.joblib') \n",
    "dump(rnd_model, 'rf_model.joblib') "
   ]
  },
  {
   "cell_type": "code",
   "execution_count": 108,
   "metadata": {},
   "outputs": [],
   "source": [
    "d_model = load('dumm_model.joblib') \n",
    "rf_model = load('rf_model.joblib') "
   ]
  },
  {
   "cell_type": "code",
   "execution_count": 64,
   "metadata": {},
   "outputs": [],
   "source": [
    "data_v9.to_csv('data_v9.csv', index=False)\n",
    "# data_v10.to_csv('data_v10.csv', index=False)"
   ]
  },
  {
   "cell_type": "code",
   "execution_count": 114,
   "metadata": {},
   "outputs": [
    {
     "name": "stderr",
     "output_type": "stream",
     "text": [
      "c:\\Python310\\lib\\site-packages\\sklearn\\utils\\deprecation.py:87: FutureWarning: Function get_feature_names is deprecated; get_feature_names is deprecated in 1.0 and will be removed in 1.2. Please use get_feature_names_out instead.\n",
      "  warnings.warn(msg, category=FutureWarning)\n"
     ]
    },
    {
     "data": {
      "text/plain": [
       "Index(['ordinal__x0_acura', 'ordinal__x0_alfa-romeo', 'ordinal__x0_audi',\n",
       "       'ordinal__x0_bmw', 'ordinal__x0_buick', 'ordinal__x0_cadillac',\n",
       "       'ordinal__x0_chevrolet', 'ordinal__x0_chrysler', 'ordinal__x0_dodge',\n",
       "       'ordinal__x0_ford',\n",
       "       ...\n",
       "       'ordinal__x2_truck', 'ordinal__x2_van', 'ordinal__x2_wagon',\n",
       "       'condition', 'fuel', 'title_status', 'transmission', 'drive', 'size',\n",
       "       'paint_color'],\n",
       "      dtype='object', length=12265)"
      ]
     },
     "execution_count": 114,
     "metadata": {},
     "output_type": "execute_result"
    }
   ],
   "source": [
    "convert_data(data_v6.sample(1), ct_onhot, ct_ordinal).columns"
   ]
  },
  {
   "cell_type": "code",
   "execution_count": 110,
   "metadata": {},
   "outputs": [
    {
     "name": "stderr",
     "output_type": "stream",
     "text": [
      "c:\\Python310\\lib\\site-packages\\sklearn\\utils\\deprecation.py:87: FutureWarning: Function get_feature_names is deprecated; get_feature_names is deprecated in 1.0 and will be removed in 1.2. Please use get_feature_names_out instead.\n",
      "  warnings.warn(msg, category=FutureWarning)\n",
      "c:\\Python310\\lib\\site-packages\\sklearn\\base.py:493: FutureWarning: The feature names should match those that were passed during fit. Starting version 1.2, an error will be raised.\n",
      "Feature names unseen at fit time:\n",
      "- ordinal__x0_acura\n",
      "- ordinal__x0_alfa-romeo\n",
      "- ordinal__x0_audi\n",
      "- ordinal__x0_bmw\n",
      "- ordinal__x0_buick\n",
      "- ...\n",
      "Feature names seen at fit time, yet now missing:\n",
      "- cylinders\n",
      "- manufacturer_acura\n",
      "- manufacturer_alfa-romeo\n",
      "- manufacturer_audi\n",
      "- manufacturer_bmw\n",
      "- ...\n",
      "\n",
      "  warnings.warn(message, FutureWarning)\n"
     ]
    },
    {
     "ename": "ValueError",
     "evalue": "X has 12265 features, but RandomForestRegressor is expecting 12269 features as input.",
     "output_type": "error",
     "traceback": [
      "\u001b[1;31m---------------------------------------------------------------------------\u001b[0m",
      "\u001b[1;31mValueError\u001b[0m                                Traceback (most recent call last)",
      "\u001b[1;32mc:\\Users\\sherw\\Desktop\\Weiterbildung\\Projects\\car_price_prediction\\data_exploring.ipynb Cell 105\u001b[0m in \u001b[0;36m<cell line: 1>\u001b[1;34m()\u001b[0m\n\u001b[1;32m----> <a href='vscode-notebook-cell:/c%3A/Users/sherw/Desktop/Weiterbildung/Projects/car_price_prediction/data_exploring.ipynb#Y210sZmlsZQ%3D%3D?line=0'>1</a>\u001b[0m rf_model\u001b[39m.\u001b[39;49mpredict(convert_data(data_v6\u001b[39m.\u001b[39;49msample(\u001b[39m1\u001b[39;49m), ct_onhot, ct_ordinal))\n",
      "File \u001b[1;32mc:\\Python310\\lib\\site-packages\\sklearn\\ensemble\\_forest.py:991\u001b[0m, in \u001b[0;36mForestRegressor.predict\u001b[1;34m(self, X)\u001b[0m\n\u001b[0;32m    989\u001b[0m check_is_fitted(\u001b[39mself\u001b[39m)\n\u001b[0;32m    990\u001b[0m \u001b[39m# Check data\u001b[39;00m\n\u001b[1;32m--> 991\u001b[0m X \u001b[39m=\u001b[39m \u001b[39mself\u001b[39;49m\u001b[39m.\u001b[39;49m_validate_X_predict(X)\n\u001b[0;32m    993\u001b[0m \u001b[39m# Assign chunk of trees to jobs\u001b[39;00m\n\u001b[0;32m    994\u001b[0m n_jobs, _, _ \u001b[39m=\u001b[39m _partition_estimators(\u001b[39mself\u001b[39m\u001b[39m.\u001b[39mn_estimators, \u001b[39mself\u001b[39m\u001b[39m.\u001b[39mn_jobs)\n",
      "File \u001b[1;32mc:\\Python310\\lib\\site-packages\\sklearn\\ensemble\\_forest.py:605\u001b[0m, in \u001b[0;36mBaseForest._validate_X_predict\u001b[1;34m(self, X)\u001b[0m\n\u001b[0;32m    602\u001b[0m \u001b[39m\"\"\"\u001b[39;00m\n\u001b[0;32m    603\u001b[0m \u001b[39mValidate X whenever one tries to predict, apply, predict_proba.\"\"\"\u001b[39;00m\n\u001b[0;32m    604\u001b[0m check_is_fitted(\u001b[39mself\u001b[39m)\n\u001b[1;32m--> 605\u001b[0m X \u001b[39m=\u001b[39m \u001b[39mself\u001b[39;49m\u001b[39m.\u001b[39;49m_validate_data(X, dtype\u001b[39m=\u001b[39;49mDTYPE, accept_sparse\u001b[39m=\u001b[39;49m\u001b[39m\"\u001b[39;49m\u001b[39mcsr\u001b[39;49m\u001b[39m\"\u001b[39;49m, reset\u001b[39m=\u001b[39;49m\u001b[39mFalse\u001b[39;49;00m)\n\u001b[0;32m    606\u001b[0m \u001b[39mif\u001b[39;00m issparse(X) \u001b[39mand\u001b[39;00m (X\u001b[39m.\u001b[39mindices\u001b[39m.\u001b[39mdtype \u001b[39m!=\u001b[39m np\u001b[39m.\u001b[39mintc \u001b[39mor\u001b[39;00m X\u001b[39m.\u001b[39mindptr\u001b[39m.\u001b[39mdtype \u001b[39m!=\u001b[39m np\u001b[39m.\u001b[39mintc):\n\u001b[0;32m    607\u001b[0m     \u001b[39mraise\u001b[39;00m \u001b[39mValueError\u001b[39;00m(\u001b[39m\"\u001b[39m\u001b[39mNo support for np.int64 index based sparse matrices\u001b[39m\u001b[39m\"\u001b[39m)\n",
      "File \u001b[1;32mc:\\Python310\\lib\\site-packages\\sklearn\\base.py:600\u001b[0m, in \u001b[0;36mBaseEstimator._validate_data\u001b[1;34m(self, X, y, reset, validate_separately, **check_params)\u001b[0m\n\u001b[0;32m    597\u001b[0m     out \u001b[39m=\u001b[39m X, y\n\u001b[0;32m    599\u001b[0m \u001b[39mif\u001b[39;00m \u001b[39mnot\u001b[39;00m no_val_X \u001b[39mand\u001b[39;00m check_params\u001b[39m.\u001b[39mget(\u001b[39m\"\u001b[39m\u001b[39mensure_2d\u001b[39m\u001b[39m\"\u001b[39m, \u001b[39mTrue\u001b[39;00m):\n\u001b[1;32m--> 600\u001b[0m     \u001b[39mself\u001b[39;49m\u001b[39m.\u001b[39;49m_check_n_features(X, reset\u001b[39m=\u001b[39;49mreset)\n\u001b[0;32m    602\u001b[0m \u001b[39mreturn\u001b[39;00m out\n",
      "File \u001b[1;32mc:\\Python310\\lib\\site-packages\\sklearn\\base.py:400\u001b[0m, in \u001b[0;36mBaseEstimator._check_n_features\u001b[1;34m(self, X, reset)\u001b[0m\n\u001b[0;32m    397\u001b[0m     \u001b[39mreturn\u001b[39;00m\n\u001b[0;32m    399\u001b[0m \u001b[39mif\u001b[39;00m n_features \u001b[39m!=\u001b[39m \u001b[39mself\u001b[39m\u001b[39m.\u001b[39mn_features_in_:\n\u001b[1;32m--> 400\u001b[0m     \u001b[39mraise\u001b[39;00m \u001b[39mValueError\u001b[39;00m(\n\u001b[0;32m    401\u001b[0m         \u001b[39mf\u001b[39m\u001b[39m\"\u001b[39m\u001b[39mX has \u001b[39m\u001b[39m{\u001b[39;00mn_features\u001b[39m}\u001b[39;00m\u001b[39m features, but \u001b[39m\u001b[39m{\u001b[39;00m\u001b[39mself\u001b[39m\u001b[39m.\u001b[39m\u001b[39m__class__\u001b[39m\u001b[39m.\u001b[39m\u001b[39m__name__\u001b[39m\u001b[39m}\u001b[39;00m\u001b[39m \u001b[39m\u001b[39m\"\u001b[39m\n\u001b[0;32m    402\u001b[0m         \u001b[39mf\u001b[39m\u001b[39m\"\u001b[39m\u001b[39mis expecting \u001b[39m\u001b[39m{\u001b[39;00m\u001b[39mself\u001b[39m\u001b[39m.\u001b[39mn_features_in_\u001b[39m}\u001b[39;00m\u001b[39m features as input.\u001b[39m\u001b[39m\"\u001b[39m\n\u001b[0;32m    403\u001b[0m     )\n",
      "\u001b[1;31mValueError\u001b[0m: X has 12265 features, but RandomForestRegressor is expecting 12269 features as input."
     ]
    }
   ],
   "source": [
    "rf_model.predict(convert_data(data_v6.sample(1), ct_onhot, ct_ordinal))"
   ]
  }
 ],
 "metadata": {
  "kernelspec": {
   "display_name": "Python 3.10.6 64-bit",
   "language": "python",
   "name": "python3"
  },
  "language_info": {
   "codemirror_mode": {
    "name": "ipython",
    "version": 3
   },
   "file_extension": ".py",
   "mimetype": "text/x-python",
   "name": "python",
   "nbconvert_exporter": "python",
   "pygments_lexer": "ipython3",
   "version": "3.10.6"
  },
  "orig_nbformat": 4,
  "vscode": {
   "interpreter": {
    "hash": "369f2c481f4da34e4445cda3fffd2e751bd1c4d706f27375911949ba6bb62e1c"
   }
  }
 },
 "nbformat": 4,
 "nbformat_minor": 2
}
