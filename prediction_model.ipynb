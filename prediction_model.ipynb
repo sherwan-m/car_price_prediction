{
 "cells": [
  {
   "cell_type": "code",
   "execution_count": 13,
   "metadata": {},
   "outputs": [],
   "source": [
    "import pandas as pd\n",
    "import numpy as np\n",
    "from sklearn.compose import ColumnTransformer\n",
    "from sklearn.preprocessing import OrdinalEncoder\n",
    "import matplotlib.pyplot as plt\n",
    "import seaborn as sns\n",
    "import datetime\n",
    "\n",
    "from sklearn.pipeline import Pipeline\n",
    "from sklearn.impute import SimpleImputer\n",
    "from sklearn.experimental import enable_iterative_imputer  # noqa\n",
    "from sklearn.impute import IterativeImputer\n",
    "from sklearn.preprocessing import MinMaxScaler, OneHotEncoder, OrdinalEncoder, PolynomialFeatures\n",
    "from sklearn.compose import ColumnTransformer\n",
    "from sklearn.feature_selection import VarianceThreshold\n",
    "from sklearn.feature_selection import SelectFromModel\n",
    "from sklearn.tree import DecisionTreeRegressor\n",
    "from sklearn.linear_model import LinearRegression\n",
    "from sklearn.model_selection import GridSearchCV\n",
    "from sklearn import preprocessing\n",
    "from sklearn.pipeline import make_pipeline\n",
    "from sklearn import linear_model\n",
    "from sklearn.preprocessing import LabelEncoder\n",
    "from sklearn.model_selection import RandomizedSearchCV\n",
    "from sklearn.feature_extraction.text import CountVectorizer\n",
    "from sklearn.metrics import r2_score\n",
    "from sklearn.model_selection import train_test_split\n",
    "import matplotlib.pyplot as plt\n",
    "from sklearn.linear_model import LogisticRegression\n",
    "from sklearn.metrics import accuracy_score\n",
    "from sklearn.ensemble import RandomForestRegressor "
   ]
  },
  {
   "cell_type": "markdown",
   "metadata": {},
   "source": [
    "# Dummy model"
   ]
  },
  {
   "cell_type": "code",
   "execution_count": 7,
   "metadata": {},
   "outputs": [],
   "source": [
    "dataset= pd.read_csv('./data_v9.csv')"
   ]
  },
  {
   "cell_type": "code",
   "execution_count": 8,
   "metadata": {},
   "outputs": [],
   "source": [
    "data = pd.get_dummies(dataset)"
   ]
  },
  {
   "cell_type": "code",
   "execution_count": null,
   "metadata": {},
   "outputs": [],
   "source": []
  },
  {
   "cell_type": "code",
   "execution_count": 5,
   "metadata": {},
   "outputs": [],
   "source": [
    "X = data.drop(columns=['price'])\n",
    "y = data['price']\n",
    "\n",
    "X_train, X_test, y_train, y_test = train_test_split(X, y, test_size=0.1, random_state=14564)"
   ]
  },
  {
   "cell_type": "code",
   "execution_count": null,
   "metadata": {},
   "outputs": [],
   "source": [
    "dummy_model = LinearRegression()"
   ]
  },
  {
   "cell_type": "code",
   "execution_count": null,
   "metadata": {},
   "outputs": [],
   "source": [
    "dummy_model.fit(X_train, y_train)"
   ]
  },
  {
   "cell_type": "code",
   "execution_count": null,
   "metadata": {},
   "outputs": [],
   "source": [
    "dummy_predict = dummy_model.predict(X_test)"
   ]
  },
  {
   "cell_type": "code",
   "execution_count": null,
   "metadata": {},
   "outputs": [],
   "source": [
    "r2_score(dummy_predict,y_test)"
   ]
  },
  {
   "cell_type": "code",
   "execution_count": null,
   "metadata": {},
   "outputs": [],
   "source": [
    "plt.scatter(dummy_predict, y_test)"
   ]
  },
  {
   "cell_type": "code",
   "execution_count": null,
   "metadata": {},
   "outputs": [],
   "source": [
    "dummy_errors = y_test - dummy_predict"
   ]
  },
  {
   "cell_type": "code",
   "execution_count": null,
   "metadata": {},
   "outputs": [],
   "source": [
    "plt.hist(dummy_errors, bins= 100)"
   ]
  },
  {
   "cell_type": "code",
   "execution_count": null,
   "metadata": {},
   "outputs": [],
   "source": [
    "rnd_model = RandomForestRegressor()"
   ]
  },
  {
   "cell_type": "code",
   "execution_count": null,
   "metadata": {},
   "outputs": [],
   "source": [
    "rnd_model.fit(X_train, y_train)"
   ]
  },
  {
   "cell_type": "code",
   "execution_count": null,
   "metadata": {},
   "outputs": [],
   "source": [
    "rnd_predict = rnd_model.predict(X_test)"
   ]
  },
  {
   "cell_type": "code",
   "execution_count": null,
   "metadata": {},
   "outputs": [],
   "source": [
    "r2_score(rnd_predict,y_test)"
   ]
  },
  {
   "cell_type": "code",
   "execution_count": null,
   "metadata": {},
   "outputs": [],
   "source": [
    "plt.scatter(rnd_predict, y_test)"
   ]
  },
  {
   "cell_type": "code",
   "execution_count": null,
   "metadata": {},
   "outputs": [],
   "source": [
    "errors = y_test - rnd_predict"
   ]
  },
  {
   "cell_type": "code",
   "execution_count": null,
   "metadata": {},
   "outputs": [],
   "source": [
    "plt.hist(errors, bins= 100)"
   ]
  },
  {
   "cell_type": "code",
   "execution_count": null,
   "metadata": {},
   "outputs": [],
   "source": [
    "import pickle\n",
    "from joblib import dump, load\n",
    "\n",
    "dump(dummy_model, 'dumm_model.joblib') \n",
    "dump(rnd_model, 'rf_model.joblib') "
   ]
  },
  {
   "cell_type": "code",
   "execution_count": null,
   "metadata": {},
   "outputs": [],
   "source": [
    "d_model = load('dumm_model.joblib') \n",
    "rf_model = load('rf_model.joblib') "
   ]
  },
  {
   "cell_type": "code",
   "execution_count": null,
   "metadata": {},
   "outputs": [],
   "source": [
    "data_v9.to_csv('data_v9.csv', index=False)\n",
    "data_v10.to_csv('data_v9.csv', index=False)"
   ]
  },
  {
   "cell_type": "code",
   "execution_count": 9,
   "metadata": {},
   "outputs": [],
   "source": [
    "ordinal_columns= ['condition', 'fuel', 'title_status', 'transmission', 'drive', 'size', 'paint_color']\n",
    "\n",
    "\n",
    "ord_condition_list = ['salvage', 'fair', 'good', 'excellent', 'like new', 'new']\n",
    "ord_fuel_list = ['other', 'diesel', 'gas', 'hybrid', 'electric']\n",
    "ord_title_status_list = ['salvage', 'missing', 'parts only', 'rebuilt', 'lien', 'clean']\n",
    "ord_tranmission_list = ['other', 'manual', 'automatic']\n",
    "ord_drive_list= ['fwd', 'rwd', '4wd']\n",
    "ord_size_list = ['mid-size','full-size', 'sub-compact', 'compact']\n",
    "ord_paint_color = ['white', 'blue', 'red', 'black', 'silver', 'grey', 'none', 'brown',\n",
    "                   'yellow', 'orange', 'green', 'custom', 'purple']\n",
    "ordinal_lists = [ord_condition_list,ord_fuel_list,ord_title_status_list,ord_tranmission_list,ord_drive_list,ord_size_list,ord_paint_color]"
   ]
  },
  {
   "cell_type": "code",
   "execution_count": null,
   "metadata": {},
   "outputs": [],
   "source": [
    "# numeric pipeline\n",
    "numeric_pipe = Pipeline(steps=[\n",
    "    ('imputer' ,IterativeImputer(random_state=0, initial_strategy=\"mean\")),\n",
    "    # ('scaler', MinMaxScaler())\n",
    "])\n",
    "\n",
    "# # nominal pipeline , with the SimpleImputer(fill_value=\"NA\") and the OneHotEncoder\n",
    "cat_onehot_pipe = Pipeline(steps=[\n",
    "    ('imputer' ,SimpleImputer(strategy=\"constant\", fill_value=\"NA\")),\n",
    "    ('onehot', OneHotEncoder(handle_unknown='ignore', drop=\"first\"))\n",
    "])\n",
    "# ordinal pipeline\n",
    "cat_ordinal_pipe = Pipeline(steps=[\n",
    "    ('imputer' ,SimpleImputer(strategy=\"constant\", fill_value=\"NA\")),\n",
    "    ('ordinal' ,OrdinalEncoder(categories= ord_list)),\n",
    "    # ('scaler', MinMaxScaler())\n",
    "])\n",
    "\n",
    "# preprocessing pipeline\n",
    "preprocessor = ColumnTransformer(\n",
    "    transformers=[\n",
    "        (\"num\", numeric_pipe, num_columns),\n",
    "        (\"cat_onehot\", cat_onehot_pipe, cat_onehot_calumns),\n",
    "        (\"cat_ordinal\", cat_ordinal_pipe, cat_ordinal_calumns)\n",
    "    ]\n",
    ")\n",
    "\n",
    "\n",
    "# full_pipeline_v3 = make_pipeline(preprocessor,\n",
    "#                                 #  preprocessing.MinMaxScaler(), #best scaler till now\n",
    "#                                 # preprocessing.FunctionTransformer(), # second best \n",
    "#                                 preprocessing.PolynomialFeatures(), # wowwwwwwwwwwwwwwwww\n",
    "#                               RandomForestClassifier(class_weight= 'balanced', max_depth= 12, min_samples_leaf= 3)\n",
    "# )"
   ]
  }
 ],
 "metadata": {
  "kernelspec": {
   "display_name": "Python 3.10.6 64-bit",
   "language": "python",
   "name": "python3"
  },
  "language_info": {
   "codemirror_mode": {
    "name": "ipython",
    "version": 3
   },
   "file_extension": ".py",
   "mimetype": "text/x-python",
   "name": "python",
   "nbconvert_exporter": "python",
   "pygments_lexer": "ipython3",
   "version": "3.10.6"
  },
  "orig_nbformat": 4,
  "vscode": {
   "interpreter": {
    "hash": "369f2c481f4da34e4445cda3fffd2e751bd1c4d706f27375911949ba6bb62e1c"
   }
  }
 },
 "nbformat": 4,
 "nbformat_minor": 2
}
