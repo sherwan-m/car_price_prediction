{
 "cells": [
  {
   "cell_type": "markdown",
   "metadata": {},
   "source": [
    "we want to make a autofill system and for the option in the app to have some smaller database just with the details for each manufacturer and model. then i will prepare the data for it"
   ]
  },
  {
   "cell_type": "code",
   "execution_count": 2,
   "metadata": {},
   "outputs": [],
   "source": [
    "import pandas as pd\n",
    "import numpy as np\n",
    "from sklearn.compose import ColumnTransformer\n",
    "from sklearn.preprocessing import OrdinalEncoder\n",
    "import matplotlib.pyplot as plt\n",
    "import seaborn as sns\n",
    "import datetime"
   ]
  },
  {
   "cell_type": "code",
   "execution_count": 3,
   "metadata": {},
   "outputs": [],
   "source": [
    "dataset= pd.read_csv('./data/vehicles.csv')"
   ]
  },
  {
   "cell_type": "code",
   "execution_count": 4,
   "metadata": {},
   "outputs": [
    {
     "name": "stdout",
     "output_type": "stream",
     "text": [
      "<class 'pandas.core.frame.DataFrame'>\n",
      "RangeIndex: 426880 entries, 0 to 426879\n",
      "Data columns (total 16 columns):\n",
      " #   Column        Non-Null Count   Dtype  \n",
      "---  ------        --------------   -----  \n",
      " 0   price         426880 non-null  int64  \n",
      " 1   year          425675 non-null  float64\n",
      " 2   manufacturer  409234 non-null  object \n",
      " 3   model         421603 non-null  object \n",
      " 4   condition     252776 non-null  object \n",
      " 5   cylinders     249202 non-null  object \n",
      " 6   fuel          423867 non-null  object \n",
      " 7   odometer      422480 non-null  float64\n",
      " 8   title_status  418638 non-null  object \n",
      " 9   transmission  424324 non-null  object \n",
      " 10  VIN           265838 non-null  object \n",
      " 11  drive         296313 non-null  object \n",
      " 12  size          120519 non-null  object \n",
      " 13  type          334022 non-null  object \n",
      " 14  paint_color   296677 non-null  object \n",
      " 15  posting_date  426812 non-null  object \n",
      "dtypes: float64(2), int64(1), object(13)\n",
      "memory usage: 52.1+ MB\n"
     ]
    }
   ],
   "source": [
    "non_related_columns = ['id', 'url' , 'region', 'region_url', 'image_url', 'county', 'state', 'lat', 'long', 'description']\n",
    "data = dataset.drop(columns= non_related_columns)\n",
    "data.info()"
   ]
  },
  {
   "cell_type": "code",
   "execution_count": 5,
   "metadata": {},
   "outputs": [
    {
     "name": "stdout",
     "output_type": "stream",
     "text": [
      "<class 'pandas.core.frame.DataFrame'>\n",
      "Int64Index: 425675 entries, 27 to 426879\n",
      "Data columns (total 16 columns):\n",
      " #   Column        Non-Null Count   Dtype  \n",
      "---  ------        --------------   -----  \n",
      " 0   price         425675 non-null  int64  \n",
      " 1   year          425675 non-null  float64\n",
      " 2   manufacturer  409228 non-null  object \n",
      " 3   model         420466 non-null  object \n",
      " 4   condition     252766 non-null  object \n",
      " 5   cylinders     248084 non-null  object \n",
      " 6   fuel          422930 non-null  object \n",
      " 7   odometer      421344 non-null  float64\n",
      " 8   title_status  417745 non-null  object \n",
      " 9   transmission  423187 non-null  object \n",
      " 10  VIN           264701 non-null  object \n",
      " 11  drive         295408 non-null  object \n",
      " 12  size          120519 non-null  object \n",
      " 13  type          333008 non-null  object \n",
      " 14  paint_color   295627 non-null  object \n",
      " 15  posting_date  425675 non-null  object \n",
      "dtypes: float64(2), int64(1), object(13)\n",
      "memory usage: 55.2+ MB\n"
     ]
    }
   ],
   "source": [
    "data_v1 = data.dropna(subset =['year'])\n",
    "data_v1.info()"
   ]
  },
  {
   "cell_type": "code",
   "execution_count": 6,
   "metadata": {},
   "outputs": [],
   "source": [
    "def find_number_of_cylinedrs(manufacturer, model):\n",
    "    result = data_v1.loc[lambda df_ : ((df_['manufacturer'] == manufacturer) & (df_['model'] == model) & (~df_['cylinders'].isna()))]\n",
    "    if result.shape[0] == 0:\n",
    "        return np.nan\n",
    "    return result.iloc[0,]['cylinders']\n",
    "def find_fuel(manufacturer, model):\n",
    "    result = data_v1.loc[lambda df_ : ((df_['manufacturer'] == manufacturer) & (df_['model'] == model) & (~df_['fuel'].isna()))]\n",
    "    if result.shape[0] == 0:\n",
    "        return np.nan\n",
    "    return result.iloc[0,]['fuel']\n",
    "\n",
    "\n",
    "def find_transmission(manufacturer, model):\n",
    "    result = data_v1.loc[lambda df_ : ((df_['manufacturer'] == manufacturer) & (df_['model'] == model) & (~df_['transmission'].isna()))]\n",
    "    if result.shape[0] == 0:\n",
    "        return np.nan\n",
    "    return result.iloc[0,]['transmission']\n",
    "\n",
    "\n",
    "def find_drive(manufacturer, model):\n",
    "    result = data_v1.loc[lambda df_ : ((df_['manufacturer'] == manufacturer) & (df_['model'] == model) & (~df_['drive'].isna()))]\n",
    "    if result.shape[0] == 0:\n",
    "        return np.nan\n",
    "    return result.iloc[0,]['drive']\n",
    "\n",
    "def find_size(manufacturer, model):\n",
    "    result = data_v1.loc[lambda df_ : ((df_['manufacturer'] == manufacturer) & (df_['model'] == model) & (~df_['size'].isna()))]\n",
    "    if result.shape[0] == 0:\n",
    "        return np.nan\n",
    "    return result.iloc[0,]['size']\n",
    "\n",
    "def find_type(manufacturer, model):\n",
    "    result = data_v1.loc[lambda df_ : ((df_['manufacturer'] == manufacturer) & (df_['model'] == model) & (~df_['type'].isna()))]\n",
    "    if result.shape[0] == 0:\n",
    "        return np.nan\n",
    "    return result.iloc[0,]['type']\n",
    "\n"
   ]
  },
  {
   "cell_type": "code",
   "execution_count": 7,
   "metadata": {},
   "outputs": [],
   "source": [
    "data_v2=(\n",
    "    data_v1\n",
    "        .assign(re_cylinders = np.where(\n",
    "            data_v1['cylinders'].isna(),\n",
    "            find_number_of_cylinedrs(data_v1['manufacturer'],data_v1['model']),\n",
    "            data_v1['cylinders']\n",
    "        ))\n",
    "        .assign(re_fuel = np.where(\n",
    "            data_v1['fuel'].isna(),\n",
    "            find_fuel(data_v1['manufacturer'],data_v1['model']),\n",
    "            data_v1['fuel']\n",
    "        ))\n",
    "        .assign(re_transmission = np.where(\n",
    "            data_v1['transmission'].isna(),\n",
    "            find_transmission(data_v1['manufacturer'],data_v1['model']),\n",
    "            data_v1['transmission']\n",
    "        ))\n",
    "        .assign(re_drive = np.where(\n",
    "            data_v1['drive'].isna(),\n",
    "            find_drive(data_v1['manufacturer'],data_v1['model']),\n",
    "            data_v1['drive']\n",
    "        ))\n",
    "        .assign(re_size = np.where(\n",
    "            data_v1['size'].isna(),\n",
    "            find_size(data_v1['manufacturer'],data_v1['model']),\n",
    "            data_v1['size']\n",
    "        ))\n",
    "        .assign(re_type = np.where(\n",
    "            data_v1['type'].isna(),\n",
    "            find_type(data_v1['manufacturer'],data_v1['model']),\n",
    "            data_v1['type']\n",
    "        ))\n",
    ")"
   ]
  },
  {
   "cell_type": "code",
   "execution_count": 8,
   "metadata": {},
   "outputs": [
    {
     "name": "stdout",
     "output_type": "stream",
     "text": [
      "<class 'pandas.core.frame.DataFrame'>\n",
      "Int64Index: 425675 entries, 27 to 426879\n",
      "Data columns (total 22 columns):\n",
      " #   Column           Non-Null Count   Dtype  \n",
      "---  ------           --------------   -----  \n",
      " 0   price            425675 non-null  int64  \n",
      " 1   year             425675 non-null  float64\n",
      " 2   manufacturer     409228 non-null  object \n",
      " 3   model            420466 non-null  object \n",
      " 4   condition        252766 non-null  object \n",
      " 5   cylinders        248084 non-null  object \n",
      " 6   fuel             422930 non-null  object \n",
      " 7   odometer         421344 non-null  float64\n",
      " 8   title_status     417745 non-null  object \n",
      " 9   transmission     423187 non-null  object \n",
      " 10  VIN              264701 non-null  object \n",
      " 11  drive            295408 non-null  object \n",
      " 12  size             120519 non-null  object \n",
      " 13  type             333008 non-null  object \n",
      " 14  paint_color      295627 non-null  object \n",
      " 15  posting_date     425675 non-null  object \n",
      " 16  re_cylinders     425675 non-null  object \n",
      " 17  re_fuel          425675 non-null  object \n",
      " 18  re_transmission  425675 non-null  object \n",
      " 19  re_drive         425675 non-null  object \n",
      " 20  re_size          425675 non-null  object \n",
      " 21  re_type          425675 non-null  object \n",
      "dtypes: float64(2), int64(1), object(19)\n",
      "memory usage: 74.7+ MB\n"
     ]
    }
   ],
   "source": [
    "data_v2.info()"
   ]
  },
  {
   "cell_type": "code",
   "execution_count": 9,
   "metadata": {},
   "outputs": [],
   "source": [
    "def find_manufacturer(model, cylinders, fuel, transmission, type):\n",
    "    result = data_v2.loc[lambda df_ : ((df_['model'] == model) & (df_['re_cylinders'] == cylinders) &(df_['re_fuel'] == fuel) &\n",
    "                                       (df_['re_transmission'] == transmission)&(df_['re_type'] == type) &\n",
    "                                       (~df_['manufacturer'].isna()))]\n",
    "    if result.shape[0] == 0:\n",
    "        return np.nan\n",
    "    return result.iloc[0,]['manufacturer']"
   ]
  },
  {
   "cell_type": "code",
   "execution_count": 10,
   "metadata": {},
   "outputs": [],
   "source": [
    "data_v3 =(\n",
    "    data_v2\n",
    "        .assign(re_manufacturer = np.where(\n",
    "            data_v2['manufacturer'].isna(),\n",
    "            find_manufacturer(data_v2['model'],data_v2['re_cylinders'], data_v2['re_fuel'], data_v2['re_transmission'], data_v2['re_type']),\n",
    "            data_v2['manufacturer']\n",
    "        ))\n",
    ")"
   ]
  },
  {
   "cell_type": "code",
   "execution_count": 11,
   "metadata": {},
   "outputs": [],
   "source": [
    "data_v4 = data_v3.dropna(subset= ['model'])"
   ]
  },
  {
   "cell_type": "code",
   "execution_count": 12,
   "metadata": {},
   "outputs": [
    {
     "data": {
      "text/plain": [
       "(420466, 23)"
      ]
     },
     "execution_count": 12,
     "metadata": {},
     "output_type": "execute_result"
    }
   ],
   "source": [
    "data_v4.shape"
   ]
  },
  {
   "cell_type": "code",
   "execution_count": 13,
   "metadata": {},
   "outputs": [],
   "source": [
    "columns= ['price', 'year', 're_manufacturer', 'model', 're_cylinders', 're_fuel', 're_transmission', 're_drive', 're_size', 're_type']\n",
    "data_v5 = data_v4[columns]\n",
    "data_v5.columns = data_v5.columns.str.replace('re_', '')"
   ]
  },
  {
   "cell_type": "code",
   "execution_count": 14,
   "metadata": {},
   "outputs": [
    {
     "name": "stdout",
     "output_type": "stream",
     "text": [
      "<class 'pandas.core.frame.DataFrame'>\n",
      "Int64Index: 420466 entries, 27 to 426879\n",
      "Data columns (total 10 columns):\n",
      " #   Column        Non-Null Count   Dtype  \n",
      "---  ------        --------------   -----  \n",
      " 0   price         420466 non-null  int64  \n",
      " 1   year          420466 non-null  float64\n",
      " 2   manufacturer  420466 non-null  object \n",
      " 3   model         420466 non-null  object \n",
      " 4   cylinders     420466 non-null  object \n",
      " 5   fuel          420466 non-null  object \n",
      " 6   transmission  420466 non-null  object \n",
      " 7   drive         420466 non-null  object \n",
      " 8   size          420466 non-null  object \n",
      " 9   type          420466 non-null  object \n",
      "dtypes: float64(1), int64(1), object(8)\n",
      "memory usage: 35.3+ MB\n"
     ]
    }
   ],
   "source": [
    "data_v5.info()"
   ]
  },
  {
   "cell_type": "code",
   "execution_count": 15,
   "metadata": {},
   "outputs": [
    {
     "data": {
      "text/html": [
       "<div>\n",
       "<style scoped>\n",
       "    .dataframe tbody tr th:only-of-type {\n",
       "        vertical-align: middle;\n",
       "    }\n",
       "\n",
       "    .dataframe tbody tr th {\n",
       "        vertical-align: top;\n",
       "    }\n",
       "\n",
       "    .dataframe thead th {\n",
       "        text-align: right;\n",
       "    }\n",
       "</style>\n",
       "<table border=\"1\" class=\"dataframe\">\n",
       "  <thead>\n",
       "    <tr style=\"text-align: right;\">\n",
       "      <th></th>\n",
       "      <th>price</th>\n",
       "      <th>year</th>\n",
       "      <th>manufacturer</th>\n",
       "      <th>model</th>\n",
       "      <th>cylinders</th>\n",
       "      <th>fuel</th>\n",
       "      <th>transmission</th>\n",
       "      <th>drive</th>\n",
       "      <th>size</th>\n",
       "      <th>type</th>\n",
       "    </tr>\n",
       "  </thead>\n",
       "  <tbody>\n",
       "    <tr>\n",
       "      <th>0</th>\n",
       "      <td>0</td>\n",
       "      <td>2017.0</td>\n",
       "      <td>ford</td>\n",
       "      <td>f-150</td>\n",
       "      <td>8 cylinders</td>\n",
       "      <td>gas</td>\n",
       "      <td>automatic</td>\n",
       "      <td>rwd</td>\n",
       "      <td>full-size</td>\n",
       "      <td>pickup</td>\n",
       "    </tr>\n",
       "  </tbody>\n",
       "</table>\n",
       "</div>"
      ],
      "text/plain": [
       "   price    year manufacturer  model    cylinders fuel transmission drive  \\\n",
       "0      0  2017.0         ford  f-150  8 cylinders  gas    automatic   rwd   \n",
       "\n",
       "        size    type  \n",
       "0  full-size  pickup  "
      ]
     },
     "execution_count": 15,
     "metadata": {},
     "output_type": "execute_result"
    }
   ],
   "source": [
    "data_v5.mode()"
   ]
  },
  {
   "cell_type": "code",
   "execution_count": 25,
   "metadata": {},
   "outputs": [],
   "source": [
    "# import re\n",
    "# pat = re.compile(\"^[A-Za-z0-9\\'\\\"\\,\\.\\(\\)_-]*$\")\n",
    "# def pat_mach(input):\n",
    "#     return pat_mach(input)\n",
    "data_v6 = (\n",
    "    data_v5\n",
    "    .groupby('model')\n",
    "    .agg(manufacturer=('manufacturer', 'last'), #max_price=('price', 'max'), min_price=('price', 'min'), avg_price=('price', 'mean'),\n",
    "         cylinders=('cylinders', 'last'), fuel=('fuel', 'last'), transmission=('transmission', 'last'), drive=('drive', 'last'),\n",
    "         size=('size', 'last'), type=('type', 'last'),count = ('price', 'count'))\n",
    "    .reset_index()\n",
    ").loc[lambda df_ : df_['count'] >2]"
   ]
  },
  {
   "cell_type": "code",
   "execution_count": 26,
   "metadata": {},
   "outputs": [],
   "source": [
    "data_v6.to_csv('data_for_app.csv', index=False)"
   ]
  },
  {
   "cell_type": "code",
   "execution_count": 50,
   "metadata": {},
   "outputs": [],
   "source": [
    "def details_lists_generator(data):\n",
    "    details_lists = dict()\n",
    "    details_lists['manufacturer'] = data.manufacturer.sort_values().unique()\n",
    "    details_lists['cylinders'] = data.cylinders.sort_values().unique()\n",
    "    details_lists['fuel'] = data.fuel.sort_values().unique()\n",
    "    details_lists['transmission'] = data.transmission.sort_values().unique()\n",
    "    details_lists['drive'] = data.drive.sort_values().unique()\n",
    "    details_lists['size'] = data['size'].sort_values().unique()\n",
    "    details_lists['type'] = data.type.sort_values().unique()\n",
    "    return details_lists\n",
    "\n",
    "def model_list_generator(data, manufacturer):\n",
    "    model_list = data.loc[lambda df_ : df_['manufacturer'] == manufacturer]['model'].sort_values().unique()\n",
    "    return model_list\n",
    "    \n",
    "def default_detail_generator(data, model):\n",
    "    target= datamodel_list = data.loc[lambda df_ : df_['model'] == model]\n",
    "    return target"
   ]
  },
  {
   "cell_type": "code",
   "execution_count": 61,
   "metadata": {},
   "outputs": [
    {
     "data": {
      "text/plain": [
       "'diesel'"
      ]
     },
     "execution_count": 61,
     "metadata": {},
     "output_type": "execute_result"
    }
   ],
   "source": [
    "details_lists_generator(data_v6 )['fuel'][0]"
   ]
  },
  {
   "cell_type": "code",
   "execution_count": 36,
   "metadata": {},
   "outputs": [
    {
     "data": {
      "text/plain": [
       "93312"
      ]
     },
     "execution_count": 36,
     "metadata": {},
     "output_type": "execute_result"
    }
   ],
   "source": [
    "data_v6.size"
   ]
  },
  {
   "cell_type": "code",
   "execution_count": 63,
   "metadata": {},
   "outputs": [
    {
     "data": {
      "text/plain": [
       "array(['clean', 'rebuilt', 'lien', nan, 'salvage', 'missing',\n",
       "       'parts only'], dtype=object)"
      ]
     },
     "execution_count": 63,
     "metadata": {},
     "output_type": "execute_result"
    }
   ],
   "source": [
    "data_v1.title_status.unique()"
   ]
  }
 ],
 "metadata": {
  "kernelspec": {
   "display_name": "Python 3.10.6 64-bit",
   "language": "python",
   "name": "python3"
  },
  "language_info": {
   "codemirror_mode": {
    "name": "ipython",
    "version": 3
   },
   "file_extension": ".py",
   "mimetype": "text/x-python",
   "name": "python",
   "nbconvert_exporter": "python",
   "pygments_lexer": "ipython3",
   "version": "3.10.6"
  },
  "orig_nbformat": 4,
  "vscode": {
   "interpreter": {
    "hash": "369f2c481f4da34e4445cda3fffd2e751bd1c4d706f27375911949ba6bb62e1c"
   }
  }
 },
 "nbformat": 4,
 "nbformat_minor": 2
}
